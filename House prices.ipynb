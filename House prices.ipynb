{
 "cells": [
  {
   "cell_type": "code",
   "execution_count": 2,
   "id": "initial_id",
   "metadata": {
    "collapsed": true,
    "ExecuteTime": {
     "end_time": "2024-08-22T17:34:39.715306600Z",
     "start_time": "2024-08-22T17:34:38.442280100Z"
    }
   },
   "outputs": [],
   "source": [
    "import numpy as np \n",
    "import pandas as pd \n",
    "import matplotlib.pyplot as plt\n",
    "import seaborn as sns"
   ]
  },
  {
   "cell_type": "code",
   "outputs": [
    {
     "ename": "FileNotFoundError",
     "evalue": "[Errno 2] No such file or directory: 'housing.csv'",
     "output_type": "error",
     "traceback": [
      "\u001B[1;31m---------------------------------------------------------------------------\u001B[0m",
      "\u001B[1;31mFileNotFoundError\u001B[0m                         Traceback (most recent call last)",
      "Cell \u001B[1;32mIn[3], line 2\u001B[0m\n\u001B[0;32m      1\u001B[0m \u001B[38;5;66;03m# import the dataset \u001B[39;00m\n\u001B[1;32m----> 2\u001B[0m df \u001B[38;5;241m=\u001B[39m \u001B[43mpd\u001B[49m\u001B[38;5;241;43m.\u001B[39;49m\u001B[43mread_csv\u001B[49m\u001B[43m(\u001B[49m\u001B[38;5;124;43m'\u001B[39;49m\u001B[38;5;124;43mhousing.csv\u001B[39;49m\u001B[38;5;124;43m'\u001B[39;49m\u001B[43m)\u001B[49m\n",
      "File \u001B[1;32m~\\PycharmProjects\\StockPricePrediction\\.venv\\Lib\\site-packages\\pandas\\io\\parsers\\readers.py:1026\u001B[0m, in \u001B[0;36mread_csv\u001B[1;34m(filepath_or_buffer, sep, delimiter, header, names, index_col, usecols, dtype, engine, converters, true_values, false_values, skipinitialspace, skiprows, skipfooter, nrows, na_values, keep_default_na, na_filter, verbose, skip_blank_lines, parse_dates, infer_datetime_format, keep_date_col, date_parser, date_format, dayfirst, cache_dates, iterator, chunksize, compression, thousands, decimal, lineterminator, quotechar, quoting, doublequote, escapechar, comment, encoding, encoding_errors, dialect, on_bad_lines, delim_whitespace, low_memory, memory_map, float_precision, storage_options, dtype_backend)\u001B[0m\n\u001B[0;32m   1013\u001B[0m kwds_defaults \u001B[38;5;241m=\u001B[39m _refine_defaults_read(\n\u001B[0;32m   1014\u001B[0m     dialect,\n\u001B[0;32m   1015\u001B[0m     delimiter,\n\u001B[1;32m   (...)\u001B[0m\n\u001B[0;32m   1022\u001B[0m     dtype_backend\u001B[38;5;241m=\u001B[39mdtype_backend,\n\u001B[0;32m   1023\u001B[0m )\n\u001B[0;32m   1024\u001B[0m kwds\u001B[38;5;241m.\u001B[39mupdate(kwds_defaults)\n\u001B[1;32m-> 1026\u001B[0m \u001B[38;5;28;01mreturn\u001B[39;00m \u001B[43m_read\u001B[49m\u001B[43m(\u001B[49m\u001B[43mfilepath_or_buffer\u001B[49m\u001B[43m,\u001B[49m\u001B[43m \u001B[49m\u001B[43mkwds\u001B[49m\u001B[43m)\u001B[49m\n",
      "File \u001B[1;32m~\\PycharmProjects\\StockPricePrediction\\.venv\\Lib\\site-packages\\pandas\\io\\parsers\\readers.py:620\u001B[0m, in \u001B[0;36m_read\u001B[1;34m(filepath_or_buffer, kwds)\u001B[0m\n\u001B[0;32m    617\u001B[0m _validate_names(kwds\u001B[38;5;241m.\u001B[39mget(\u001B[38;5;124m\"\u001B[39m\u001B[38;5;124mnames\u001B[39m\u001B[38;5;124m\"\u001B[39m, \u001B[38;5;28;01mNone\u001B[39;00m))\n\u001B[0;32m    619\u001B[0m \u001B[38;5;66;03m# Create the parser.\u001B[39;00m\n\u001B[1;32m--> 620\u001B[0m parser \u001B[38;5;241m=\u001B[39m \u001B[43mTextFileReader\u001B[49m\u001B[43m(\u001B[49m\u001B[43mfilepath_or_buffer\u001B[49m\u001B[43m,\u001B[49m\u001B[43m \u001B[49m\u001B[38;5;241;43m*\u001B[39;49m\u001B[38;5;241;43m*\u001B[39;49m\u001B[43mkwds\u001B[49m\u001B[43m)\u001B[49m\n\u001B[0;32m    622\u001B[0m \u001B[38;5;28;01mif\u001B[39;00m chunksize \u001B[38;5;129;01mor\u001B[39;00m iterator:\n\u001B[0;32m    623\u001B[0m     \u001B[38;5;28;01mreturn\u001B[39;00m parser\n",
      "File \u001B[1;32m~\\PycharmProjects\\StockPricePrediction\\.venv\\Lib\\site-packages\\pandas\\io\\parsers\\readers.py:1620\u001B[0m, in \u001B[0;36mTextFileReader.__init__\u001B[1;34m(self, f, engine, **kwds)\u001B[0m\n\u001B[0;32m   1617\u001B[0m     \u001B[38;5;28mself\u001B[39m\u001B[38;5;241m.\u001B[39moptions[\u001B[38;5;124m\"\u001B[39m\u001B[38;5;124mhas_index_names\u001B[39m\u001B[38;5;124m\"\u001B[39m] \u001B[38;5;241m=\u001B[39m kwds[\u001B[38;5;124m\"\u001B[39m\u001B[38;5;124mhas_index_names\u001B[39m\u001B[38;5;124m\"\u001B[39m]\n\u001B[0;32m   1619\u001B[0m \u001B[38;5;28mself\u001B[39m\u001B[38;5;241m.\u001B[39mhandles: IOHandles \u001B[38;5;241m|\u001B[39m \u001B[38;5;28;01mNone\u001B[39;00m \u001B[38;5;241m=\u001B[39m \u001B[38;5;28;01mNone\u001B[39;00m\n\u001B[1;32m-> 1620\u001B[0m \u001B[38;5;28mself\u001B[39m\u001B[38;5;241m.\u001B[39m_engine \u001B[38;5;241m=\u001B[39m \u001B[38;5;28;43mself\u001B[39;49m\u001B[38;5;241;43m.\u001B[39;49m\u001B[43m_make_engine\u001B[49m\u001B[43m(\u001B[49m\u001B[43mf\u001B[49m\u001B[43m,\u001B[49m\u001B[43m \u001B[49m\u001B[38;5;28;43mself\u001B[39;49m\u001B[38;5;241;43m.\u001B[39;49m\u001B[43mengine\u001B[49m\u001B[43m)\u001B[49m\n",
      "File \u001B[1;32m~\\PycharmProjects\\StockPricePrediction\\.venv\\Lib\\site-packages\\pandas\\io\\parsers\\readers.py:1880\u001B[0m, in \u001B[0;36mTextFileReader._make_engine\u001B[1;34m(self, f, engine)\u001B[0m\n\u001B[0;32m   1878\u001B[0m     \u001B[38;5;28;01mif\u001B[39;00m \u001B[38;5;124m\"\u001B[39m\u001B[38;5;124mb\u001B[39m\u001B[38;5;124m\"\u001B[39m \u001B[38;5;129;01mnot\u001B[39;00m \u001B[38;5;129;01min\u001B[39;00m mode:\n\u001B[0;32m   1879\u001B[0m         mode \u001B[38;5;241m+\u001B[39m\u001B[38;5;241m=\u001B[39m \u001B[38;5;124m\"\u001B[39m\u001B[38;5;124mb\u001B[39m\u001B[38;5;124m\"\u001B[39m\n\u001B[1;32m-> 1880\u001B[0m \u001B[38;5;28mself\u001B[39m\u001B[38;5;241m.\u001B[39mhandles \u001B[38;5;241m=\u001B[39m \u001B[43mget_handle\u001B[49m\u001B[43m(\u001B[49m\n\u001B[0;32m   1881\u001B[0m \u001B[43m    \u001B[49m\u001B[43mf\u001B[49m\u001B[43m,\u001B[49m\n\u001B[0;32m   1882\u001B[0m \u001B[43m    \u001B[49m\u001B[43mmode\u001B[49m\u001B[43m,\u001B[49m\n\u001B[0;32m   1883\u001B[0m \u001B[43m    \u001B[49m\u001B[43mencoding\u001B[49m\u001B[38;5;241;43m=\u001B[39;49m\u001B[38;5;28;43mself\u001B[39;49m\u001B[38;5;241;43m.\u001B[39;49m\u001B[43moptions\u001B[49m\u001B[38;5;241;43m.\u001B[39;49m\u001B[43mget\u001B[49m\u001B[43m(\u001B[49m\u001B[38;5;124;43m\"\u001B[39;49m\u001B[38;5;124;43mencoding\u001B[39;49m\u001B[38;5;124;43m\"\u001B[39;49m\u001B[43m,\u001B[49m\u001B[43m \u001B[49m\u001B[38;5;28;43;01mNone\u001B[39;49;00m\u001B[43m)\u001B[49m\u001B[43m,\u001B[49m\n\u001B[0;32m   1884\u001B[0m \u001B[43m    \u001B[49m\u001B[43mcompression\u001B[49m\u001B[38;5;241;43m=\u001B[39;49m\u001B[38;5;28;43mself\u001B[39;49m\u001B[38;5;241;43m.\u001B[39;49m\u001B[43moptions\u001B[49m\u001B[38;5;241;43m.\u001B[39;49m\u001B[43mget\u001B[49m\u001B[43m(\u001B[49m\u001B[38;5;124;43m\"\u001B[39;49m\u001B[38;5;124;43mcompression\u001B[39;49m\u001B[38;5;124;43m\"\u001B[39;49m\u001B[43m,\u001B[49m\u001B[43m \u001B[49m\u001B[38;5;28;43;01mNone\u001B[39;49;00m\u001B[43m)\u001B[49m\u001B[43m,\u001B[49m\n\u001B[0;32m   1885\u001B[0m \u001B[43m    \u001B[49m\u001B[43mmemory_map\u001B[49m\u001B[38;5;241;43m=\u001B[39;49m\u001B[38;5;28;43mself\u001B[39;49m\u001B[38;5;241;43m.\u001B[39;49m\u001B[43moptions\u001B[49m\u001B[38;5;241;43m.\u001B[39;49m\u001B[43mget\u001B[49m\u001B[43m(\u001B[49m\u001B[38;5;124;43m\"\u001B[39;49m\u001B[38;5;124;43mmemory_map\u001B[39;49m\u001B[38;5;124;43m\"\u001B[39;49m\u001B[43m,\u001B[49m\u001B[43m \u001B[49m\u001B[38;5;28;43;01mFalse\u001B[39;49;00m\u001B[43m)\u001B[49m\u001B[43m,\u001B[49m\n\u001B[0;32m   1886\u001B[0m \u001B[43m    \u001B[49m\u001B[43mis_text\u001B[49m\u001B[38;5;241;43m=\u001B[39;49m\u001B[43mis_text\u001B[49m\u001B[43m,\u001B[49m\n\u001B[0;32m   1887\u001B[0m \u001B[43m    \u001B[49m\u001B[43merrors\u001B[49m\u001B[38;5;241;43m=\u001B[39;49m\u001B[38;5;28;43mself\u001B[39;49m\u001B[38;5;241;43m.\u001B[39;49m\u001B[43moptions\u001B[49m\u001B[38;5;241;43m.\u001B[39;49m\u001B[43mget\u001B[49m\u001B[43m(\u001B[49m\u001B[38;5;124;43m\"\u001B[39;49m\u001B[38;5;124;43mencoding_errors\u001B[39;49m\u001B[38;5;124;43m\"\u001B[39;49m\u001B[43m,\u001B[49m\u001B[43m \u001B[49m\u001B[38;5;124;43m\"\u001B[39;49m\u001B[38;5;124;43mstrict\u001B[39;49m\u001B[38;5;124;43m\"\u001B[39;49m\u001B[43m)\u001B[49m\u001B[43m,\u001B[49m\n\u001B[0;32m   1888\u001B[0m \u001B[43m    \u001B[49m\u001B[43mstorage_options\u001B[49m\u001B[38;5;241;43m=\u001B[39;49m\u001B[38;5;28;43mself\u001B[39;49m\u001B[38;5;241;43m.\u001B[39;49m\u001B[43moptions\u001B[49m\u001B[38;5;241;43m.\u001B[39;49m\u001B[43mget\u001B[49m\u001B[43m(\u001B[49m\u001B[38;5;124;43m\"\u001B[39;49m\u001B[38;5;124;43mstorage_options\u001B[39;49m\u001B[38;5;124;43m\"\u001B[39;49m\u001B[43m,\u001B[49m\u001B[43m \u001B[49m\u001B[38;5;28;43;01mNone\u001B[39;49;00m\u001B[43m)\u001B[49m\u001B[43m,\u001B[49m\n\u001B[0;32m   1889\u001B[0m \u001B[43m\u001B[49m\u001B[43m)\u001B[49m\n\u001B[0;32m   1890\u001B[0m \u001B[38;5;28;01massert\u001B[39;00m \u001B[38;5;28mself\u001B[39m\u001B[38;5;241m.\u001B[39mhandles \u001B[38;5;129;01mis\u001B[39;00m \u001B[38;5;129;01mnot\u001B[39;00m \u001B[38;5;28;01mNone\u001B[39;00m\n\u001B[0;32m   1891\u001B[0m f \u001B[38;5;241m=\u001B[39m \u001B[38;5;28mself\u001B[39m\u001B[38;5;241m.\u001B[39mhandles\u001B[38;5;241m.\u001B[39mhandle\n",
      "File \u001B[1;32m~\\PycharmProjects\\StockPricePrediction\\.venv\\Lib\\site-packages\\pandas\\io\\common.py:873\u001B[0m, in \u001B[0;36mget_handle\u001B[1;34m(path_or_buf, mode, encoding, compression, memory_map, is_text, errors, storage_options)\u001B[0m\n\u001B[0;32m    868\u001B[0m \u001B[38;5;28;01melif\u001B[39;00m \u001B[38;5;28misinstance\u001B[39m(handle, \u001B[38;5;28mstr\u001B[39m):\n\u001B[0;32m    869\u001B[0m     \u001B[38;5;66;03m# Check whether the filename is to be opened in binary mode.\u001B[39;00m\n\u001B[0;32m    870\u001B[0m     \u001B[38;5;66;03m# Binary mode does not support 'encoding' and 'newline'.\u001B[39;00m\n\u001B[0;32m    871\u001B[0m     \u001B[38;5;28;01mif\u001B[39;00m ioargs\u001B[38;5;241m.\u001B[39mencoding \u001B[38;5;129;01mand\u001B[39;00m \u001B[38;5;124m\"\u001B[39m\u001B[38;5;124mb\u001B[39m\u001B[38;5;124m\"\u001B[39m \u001B[38;5;129;01mnot\u001B[39;00m \u001B[38;5;129;01min\u001B[39;00m ioargs\u001B[38;5;241m.\u001B[39mmode:\n\u001B[0;32m    872\u001B[0m         \u001B[38;5;66;03m# Encoding\u001B[39;00m\n\u001B[1;32m--> 873\u001B[0m         handle \u001B[38;5;241m=\u001B[39m \u001B[38;5;28;43mopen\u001B[39;49m\u001B[43m(\u001B[49m\n\u001B[0;32m    874\u001B[0m \u001B[43m            \u001B[49m\u001B[43mhandle\u001B[49m\u001B[43m,\u001B[49m\n\u001B[0;32m    875\u001B[0m \u001B[43m            \u001B[49m\u001B[43mioargs\u001B[49m\u001B[38;5;241;43m.\u001B[39;49m\u001B[43mmode\u001B[49m\u001B[43m,\u001B[49m\n\u001B[0;32m    876\u001B[0m \u001B[43m            \u001B[49m\u001B[43mencoding\u001B[49m\u001B[38;5;241;43m=\u001B[39;49m\u001B[43mioargs\u001B[49m\u001B[38;5;241;43m.\u001B[39;49m\u001B[43mencoding\u001B[49m\u001B[43m,\u001B[49m\n\u001B[0;32m    877\u001B[0m \u001B[43m            \u001B[49m\u001B[43merrors\u001B[49m\u001B[38;5;241;43m=\u001B[39;49m\u001B[43merrors\u001B[49m\u001B[43m,\u001B[49m\n\u001B[0;32m    878\u001B[0m \u001B[43m            \u001B[49m\u001B[43mnewline\u001B[49m\u001B[38;5;241;43m=\u001B[39;49m\u001B[38;5;124;43m\"\u001B[39;49m\u001B[38;5;124;43m\"\u001B[39;49m\u001B[43m,\u001B[49m\n\u001B[0;32m    879\u001B[0m \u001B[43m        \u001B[49m\u001B[43m)\u001B[49m\n\u001B[0;32m    880\u001B[0m     \u001B[38;5;28;01melse\u001B[39;00m:\n\u001B[0;32m    881\u001B[0m         \u001B[38;5;66;03m# Binary mode\u001B[39;00m\n\u001B[0;32m    882\u001B[0m         handle \u001B[38;5;241m=\u001B[39m \u001B[38;5;28mopen\u001B[39m(handle, ioargs\u001B[38;5;241m.\u001B[39mmode)\n",
      "\u001B[1;31mFileNotFoundError\u001B[0m: [Errno 2] No such file or directory: 'housing.csv'"
     ]
    }
   ],
   "source": [
    "# import the dataset \n",
    "df = pd.read_csv('housing.csv')\n"
   ],
   "metadata": {
    "collapsed": false,
    "ExecuteTime": {
     "end_time": "2024-08-22T17:34:40.450233600Z",
     "start_time": "2024-08-22T17:34:39.664183200Z"
    }
   },
   "id": "afecfe2838027466",
   "execution_count": 3
  },
  {
   "cell_type": "code",
   "outputs": [],
   "source": [
    "df.head()"
   ],
   "metadata": {
    "collapsed": false,
    "ExecuteTime": {
     "start_time": "2024-08-22T17:34:40.278283900Z"
    }
   },
   "id": "95cbc22ce8743439",
   "execution_count": null
  },
  {
   "cell_type": "markdown",
   "source": [
    "# ploting relationships between different columns : "
   ],
   "metadata": {
    "collapsed": false
   },
   "id": "64b7bf4ecdf26541"
  },
  {
   "cell_type": "code",
   "outputs": [],
   "source": [
    "import seaborn as sns\n",
    "# define a fct to visualize the relationship between var/target \n",
    "def relationship(data, column):\n",
    "\n",
    "    plt.figure(figsize=(10, 6))\n",
    "    sns.scatterplot(x=column, y='sqrt_median_house_value', data=data)\n",
    "    plt.title(column+' vs Target')\n",
    "    plt.xlabel(column)\n",
    "    plt.ylabel('sqrt house median value')\n",
    "    plt.show()\n"
   ],
   "metadata": {
    "collapsed": false,
    "ExecuteTime": {
     "start_time": "2024-08-22T17:34:40.284633500Z"
    }
   },
   "id": "6d581c106e452ef8",
   "execution_count": null
  },
  {
   "cell_type": "code",
   "outputs": [],
   "source": [
    "df.columns"
   ],
   "metadata": {
    "collapsed": false,
    "ExecuteTime": {
     "start_time": "2024-08-22T17:34:40.288931300Z"
    }
   },
   "id": "62aa1c98a6253513",
   "execution_count": null
  },
  {
   "cell_type": "code",
   "outputs": [
    {
     "data": {
      "text/plain": "\"relationship(df, 'longitude')\\nrelationship(df, 'latitude')\\nrelationship(df, 'housing_median_age')\\nrelationship(df, 'total_rooms')\\nrelationship(df, 'total_bedrooms')\\nrelationship(df, 'population')\\nrelationship(df, 'households')\\nrelationship(df, 'median_income')\""
     },
     "execution_count": 4,
     "metadata": {},
     "output_type": "execute_result"
    }
   ],
   "source": [
    "'''relationship(df, 'longitude')\n",
    "relationship(df, 'latitude')\n",
    "relationship(df, 'housing_median_age')\n",
    "relationship(df, 'total_rooms')\n",
    "relationship(df, 'total_bedrooms')\n",
    "relationship(df, 'population')\n",
    "relationship(df, 'households')\n",
    "relationship(df, 'median_income')'''\n",
    "\n"
   ],
   "metadata": {
    "collapsed": false,
    "ExecuteTime": {
     "end_time": "2024-08-22T17:34:41.635345500Z",
     "start_time": "2024-08-22T17:34:40.453672500Z"
    }
   },
   "id": "ffdfd56c3de6c13a",
   "execution_count": 4
  },
  {
   "cell_type": "code",
   "outputs": [
    {
     "ename": "NameError",
     "evalue": "name 'df' is not defined",
     "output_type": "error",
     "traceback": [
      "\u001B[1;31m---------------------------------------------------------------------------\u001B[0m",
      "\u001B[1;31mNameError\u001B[0m                                 Traceback (most recent call last)",
      "Cell \u001B[1;32mIn[5], line 1\u001B[0m\n\u001B[1;32m----> 1\u001B[0m \u001B[43mdf\u001B[49m[\u001B[38;5;124m'\u001B[39m\u001B[38;5;124mocean_proximity\u001B[39m\u001B[38;5;124m'\u001B[39m]\u001B[38;5;241m.\u001B[39munique()\n",
      "\u001B[1;31mNameError\u001B[0m: name 'df' is not defined"
     ]
    }
   ],
   "source": [
    "df['ocean_proximity'].unique()"
   ],
   "metadata": {
    "collapsed": false,
    "ExecuteTime": {
     "end_time": "2024-08-22T17:34:41.867088500Z",
     "start_time": "2024-08-22T17:34:41.031672100Z"
    }
   },
   "id": "5f3edc20e57d6da1",
   "execution_count": 5
  },
  {
   "cell_type": "code",
   "outputs": [
    {
     "ename": "NameError",
     "evalue": "name 'df' is not defined",
     "output_type": "error",
     "traceback": [
      "\u001B[1;31m---------------------------------------------------------------------------\u001B[0m",
      "\u001B[1;31mNameError\u001B[0m                                 Traceback (most recent call last)",
      "Cell \u001B[1;32mIn[6], line 1\u001B[0m\n\u001B[1;32m----> 1\u001B[0m \u001B[38;5;28mlen\u001B[39m(\u001B[43mdf\u001B[49m[\u001B[38;5;124m'\u001B[39m\u001B[38;5;124mocean_proximity\u001B[39m\u001B[38;5;124m'\u001B[39m])\n",
      "\u001B[1;31mNameError\u001B[0m: name 'df' is not defined"
     ]
    }
   ],
   "source": [
    "len(df['ocean_proximity'])"
   ],
   "metadata": {
    "collapsed": false,
    "ExecuteTime": {
     "start_time": "2024-08-22T17:34:41.773155300Z"
    }
   },
   "id": "4727f5c852fad91f",
   "execution_count": 6
  },
  {
   "cell_type": "code",
   "outputs": [
    {
     "ename": "NameError",
     "evalue": "name 'df' is not defined",
     "output_type": "error",
     "traceback": [
      "\u001B[1;31m---------------------------------------------------------------------------\u001B[0m",
      "\u001B[1;31mNameError\u001B[0m                                 Traceback (most recent call last)",
      "Cell \u001B[1;32mIn[7], line 1\u001B[0m\n\u001B[1;32m----> 1\u001B[0m counts \u001B[38;5;241m=\u001B[39m \u001B[43mdf\u001B[49m[\u001B[38;5;124m'\u001B[39m\u001B[38;5;124mocean_proximity\u001B[39m\u001B[38;5;124m'\u001B[39m]\u001B[38;5;241m.\u001B[39mvalue_counts()\n\u001B[0;32m      2\u001B[0m counts\n",
      "\u001B[1;31mNameError\u001B[0m: name 'df' is not defined"
     ]
    }
   ],
   "source": [
    "counts = df['ocean_proximity'].value_counts()\n",
    "counts"
   ],
   "metadata": {
    "collapsed": false,
    "ExecuteTime": {
     "end_time": "2024-08-22T17:34:42.483492700Z",
     "start_time": "2024-08-22T17:34:42.077787900Z"
    }
   },
   "id": "638c8107d6ae6210",
   "execution_count": 7
  },
  {
   "cell_type": "code",
   "outputs": [
    {
     "ename": "NameError",
     "evalue": "name 'df' is not defined",
     "output_type": "error",
     "traceback": [
      "\u001B[1;31m---------------------------------------------------------------------------\u001B[0m",
      "\u001B[1;31mNameError\u001B[0m                                 Traceback (most recent call last)",
      "Cell \u001B[1;32mIn[8], line 1\u001B[0m\n\u001B[1;32m----> 1\u001B[0m df \u001B[38;5;241m=\u001B[39m \u001B[43mdf\u001B[49m[df[\u001B[38;5;124m'\u001B[39m\u001B[38;5;124mocean_proximity\u001B[39m\u001B[38;5;124m'\u001B[39m] \u001B[38;5;241m!=\u001B[39m \u001B[38;5;124m'\u001B[39m\u001B[38;5;124mISLAND\u001B[39m\u001B[38;5;124m'\u001B[39m]\n",
      "\u001B[1;31mNameError\u001B[0m: name 'df' is not defined"
     ]
    }
   ],
   "source": [
    "df = df[df['ocean_proximity'] != 'ISLAND']"
   ],
   "metadata": {
    "collapsed": false,
    "ExecuteTime": {
     "end_time": "2024-08-22T17:34:42.827339800Z",
     "start_time": "2024-08-22T17:34:42.484628Z"
    }
   },
   "id": "7df588dced5dbef4",
   "execution_count": 8
  },
  {
   "cell_type": "code",
   "outputs": [
    {
     "ename": "NameError",
     "evalue": "name 'df' is not defined",
     "output_type": "error",
     "traceback": [
      "\u001B[1;31m---------------------------------------------------------------------------\u001B[0m",
      "\u001B[1;31mNameError\u001B[0m                                 Traceback (most recent call last)",
      "Cell \u001B[1;32mIn[9], line 1\u001B[0m\n\u001B[1;32m----> 1\u001B[0m counts \u001B[38;5;241m=\u001B[39m \u001B[43mdf\u001B[49m[\u001B[38;5;124m'\u001B[39m\u001B[38;5;124mocean_proximity\u001B[39m\u001B[38;5;124m'\u001B[39m]\u001B[38;5;241m.\u001B[39mvalue_counts()\n\u001B[0;32m      2\u001B[0m counts\n",
      "\u001B[1;31mNameError\u001B[0m: name 'df' is not defined"
     ]
    }
   ],
   "source": [
    "counts = df['ocean_proximity'].value_counts()\n",
    "counts"
   ],
   "metadata": {
    "collapsed": false,
    "ExecuteTime": {
     "start_time": "2024-08-22T17:34:42.698353400Z"
    }
   },
   "id": "939e57036570fcee",
   "execution_count": 9
  },
  {
   "cell_type": "code",
   "outputs": [
    {
     "ename": "NameError",
     "evalue": "name 'df' is not defined",
     "output_type": "error",
     "traceback": [
      "\u001B[1;31m---------------------------------------------------------------------------\u001B[0m",
      "\u001B[1;31mNameError\u001B[0m                                 Traceback (most recent call last)",
      "Cell \u001B[1;32mIn[10], line 1\u001B[0m\n\u001B[1;32m----> 1\u001B[0m \u001B[43mdf\u001B[49m\u001B[38;5;241m.\u001B[39mdescribe()\n",
      "\u001B[1;31mNameError\u001B[0m: name 'df' is not defined"
     ]
    }
   ],
   "source": [
    "\n",
    "df.describe()"
   ],
   "metadata": {
    "collapsed": false,
    "ExecuteTime": {
     "end_time": "2024-08-22T17:34:43.380571Z",
     "start_time": "2024-08-22T17:34:43.034511Z"
    }
   },
   "id": "785d29b52b56eb9a",
   "execution_count": 10
  },
  {
   "cell_type": "code",
   "outputs": [
    {
     "ename": "NameError",
     "evalue": "name 'df' is not defined",
     "output_type": "error",
     "traceback": [
      "\u001B[1;31m---------------------------------------------------------------------------\u001B[0m",
      "\u001B[1;31mNameError\u001B[0m                                 Traceback (most recent call last)",
      "Cell \u001B[1;32mIn[11], line 1\u001B[0m\n\u001B[1;32m----> 1\u001B[0m \u001B[43mdf\u001B[49m\u001B[38;5;241m.\u001B[39mshape\n",
      "\u001B[1;31mNameError\u001B[0m: name 'df' is not defined"
     ]
    }
   ],
   "source": [
    "df.shape"
   ],
   "metadata": {
    "collapsed": false,
    "ExecuteTime": {
     "start_time": "2024-08-22T17:34:43.359277300Z"
    }
   },
   "id": "68c5dd29dbff9781",
   "execution_count": 11
  },
  {
   "cell_type": "code",
   "outputs": [
    {
     "ename": "NameError",
     "evalue": "name 'df' is not defined",
     "output_type": "error",
     "traceback": [
      "\u001B[1;31m---------------------------------------------------------------------------\u001B[0m",
      "\u001B[1;31mNameError\u001B[0m                                 Traceback (most recent call last)",
      "Cell \u001B[1;32mIn[12], line 1\u001B[0m\n\u001B[1;32m----> 1\u001B[0m \u001B[43mdf\u001B[49m\u001B[38;5;241m.\u001B[39minfo()\n",
      "\u001B[1;31mNameError\u001B[0m: name 'df' is not defined"
     ]
    }
   ],
   "source": [
    "df.info()"
   ],
   "metadata": {
    "collapsed": false,
    "ExecuteTime": {
     "end_time": "2024-08-22T17:34:44.023629100Z",
     "start_time": "2024-08-22T17:34:43.579280500Z"
    }
   },
   "id": "ca2fa571e5ffd136",
   "execution_count": 12
  },
  {
   "cell_type": "code",
   "outputs": [
    {
     "ename": "NameError",
     "evalue": "name 'df' is not defined",
     "output_type": "error",
     "traceback": [
      "\u001B[1;31m---------------------------------------------------------------------------\u001B[0m",
      "\u001B[1;31mNameError\u001B[0m                                 Traceback (most recent call last)",
      "Cell \u001B[1;32mIn[13], line 2\u001B[0m\n\u001B[0;32m      1\u001B[0m \u001B[38;5;66;03m# total bedrooms has missing values\u001B[39;00m\n\u001B[1;32m----> 2\u001B[0m \u001B[43mdf\u001B[49m\u001B[38;5;241m.\u001B[39misna()\u001B[38;5;241m.\u001B[39msum()\n",
      "\u001B[1;31mNameError\u001B[0m: name 'df' is not defined"
     ]
    }
   ],
   "source": [
    "# total bedrooms has missing values\n",
    "df.isna().sum()"
   ],
   "metadata": {
    "collapsed": false,
    "ExecuteTime": {
     "start_time": "2024-08-22T17:34:44.020428600Z"
    }
   },
   "id": "e34e9faa6e84044d",
   "execution_count": 13
  },
  {
   "cell_type": "code",
   "outputs": [
    {
     "ename": "NameError",
     "evalue": "name 'df' is not defined",
     "output_type": "error",
     "traceback": [
      "\u001B[1;31m---------------------------------------------------------------------------\u001B[0m",
      "\u001B[1;31mNameError\u001B[0m                                 Traceback (most recent call last)",
      "Cell \u001B[1;32mIn[14], line 2\u001B[0m\n\u001B[0;32m      1\u001B[0m \u001B[38;5;66;03m#drop missing values \u001B[39;00m\n\u001B[1;32m----> 2\u001B[0m \u001B[43mdf\u001B[49m\u001B[38;5;241m.\u001B[39mdropna(subset\u001B[38;5;241m=\u001B[39m[\u001B[38;5;124m'\u001B[39m\u001B[38;5;124mtotal_bedrooms\u001B[39m\u001B[38;5;124m'\u001B[39m], inplace\u001B[38;5;241m=\u001B[39m\u001B[38;5;28;01mTrue\u001B[39;00m)\n",
      "\u001B[1;31mNameError\u001B[0m: name 'df' is not defined"
     ]
    }
   ],
   "source": [
    "#drop missing values \n",
    "df.dropna(subset=['total_bedrooms'], inplace=True)"
   ],
   "metadata": {
    "collapsed": false,
    "ExecuteTime": {
     "end_time": "2024-08-22T17:34:44.736113400Z",
     "start_time": "2024-08-22T17:34:44.416172700Z"
    }
   },
   "id": "2ab0d47ed6e0271a",
   "execution_count": 14
  },
  {
   "cell_type": "code",
   "outputs": [
    {
     "ename": "NameError",
     "evalue": "name 'df' is not defined",
     "output_type": "error",
     "traceback": [
      "\u001B[1;31m---------------------------------------------------------------------------\u001B[0m",
      "\u001B[1;31mNameError\u001B[0m                                 Traceback (most recent call last)",
      "Cell \u001B[1;32mIn[15], line 1\u001B[0m\n\u001B[1;32m----> 1\u001B[0m \u001B[43mdf\u001B[49m\u001B[38;5;241m.\u001B[39misna()\u001B[38;5;241m.\u001B[39msum()\n",
      "\u001B[1;31mNameError\u001B[0m: name 'df' is not defined"
     ]
    }
   ],
   "source": [
    "df.isna().sum()"
   ],
   "metadata": {
    "collapsed": false,
    "ExecuteTime": {
     "start_time": "2024-08-22T17:34:44.594710300Z"
    }
   },
   "id": "2ba3fa751308c47e",
   "execution_count": 15
  },
  {
   "cell_type": "code",
   "outputs": [
    {
     "ename": "NameError",
     "evalue": "name 'df' is not defined",
     "output_type": "error",
     "traceback": [
      "\u001B[1;31m---------------------------------------------------------------------------\u001B[0m",
      "\u001B[1;31mNameError\u001B[0m                                 Traceback (most recent call last)",
      "Cell \u001B[1;32mIn[16], line 1\u001B[0m\n\u001B[1;32m----> 1\u001B[0m \u001B[43mdf\u001B[49m\u001B[38;5;241m.\u001B[39mshape\n",
      "\u001B[1;31mNameError\u001B[0m: name 'df' is not defined"
     ]
    }
   ],
   "source": [
    "df.shape"
   ],
   "metadata": {
    "collapsed": false,
    "ExecuteTime": {
     "end_time": "2024-08-22T17:34:45.224136600Z",
     "start_time": "2024-08-22T17:34:44.928518100Z"
    }
   },
   "id": "5df6602a4d88f1f6",
   "execution_count": 16
  },
  {
   "cell_type": "code",
   "outputs": [
    {
     "ename": "NameError",
     "evalue": "name 'df' is not defined",
     "output_type": "error",
     "traceback": [
      "\u001B[1;31m---------------------------------------------------------------------------\u001B[0m",
      "\u001B[1;31mNameError\u001B[0m                                 Traceback (most recent call last)",
      "Cell \u001B[1;32mIn[17], line 3\u001B[0m\n\u001B[0;32m      1\u001B[0m \u001B[38;5;66;03m# drop duplicates rows if they exist \u001B[39;00m\n\u001B[0;32m      2\u001B[0m \u001B[38;5;66;03m# check for duplicates \u001B[39;00m\n\u001B[1;32m----> 3\u001B[0m \u001B[43mdf\u001B[49m\u001B[38;5;241m.\u001B[39mduplicated()\u001B[38;5;241m.\u001B[39msum()\n",
      "\u001B[1;31mNameError\u001B[0m: name 'df' is not defined"
     ]
    }
   ],
   "source": [
    "# drop duplicates rows if they exist \n",
    "# check for duplicates \n",
    "df.duplicated().sum()"
   ],
   "metadata": {
    "collapsed": false,
    "ExecuteTime": {
     "end_time": "2024-08-22T17:34:45.554139500Z",
     "start_time": "2024-08-22T17:34:45.231569800Z"
    }
   },
   "id": "c68cddf7fddc9389",
   "execution_count": 17
  },
  {
   "cell_type": "code",
   "outputs": [
    {
     "ename": "NameError",
     "evalue": "name 'df' is not defined",
     "output_type": "error",
     "traceback": [
      "\u001B[1;31m---------------------------------------------------------------------------\u001B[0m",
      "\u001B[1;31mNameError\u001B[0m                                 Traceback (most recent call last)",
      "Cell \u001B[1;32mIn[18], line 2\u001B[0m\n\u001B[0;32m      1\u001B[0m \u001B[38;5;66;03m# feature engeneering \u001B[39;00m\n\u001B[1;32m----> 2\u001B[0m df[\u001B[38;5;124m'\u001B[39m\u001B[38;5;124mrooms_per_household\u001B[39m\u001B[38;5;124m'\u001B[39m] \u001B[38;5;241m=\u001B[39m \u001B[43mdf\u001B[49m[\u001B[38;5;124m'\u001B[39m\u001B[38;5;124mtotal_rooms\u001B[39m\u001B[38;5;124m'\u001B[39m] \u001B[38;5;241m/\u001B[39m df[\u001B[38;5;124m'\u001B[39m\u001B[38;5;124mhouseholds\u001B[39m\u001B[38;5;124m'\u001B[39m]\n\u001B[0;32m      3\u001B[0m df[\u001B[38;5;124m'\u001B[39m\u001B[38;5;124mbedrooms_per_household\u001B[39m\u001B[38;5;124m'\u001B[39m] \u001B[38;5;241m=\u001B[39m df[\u001B[38;5;124m'\u001B[39m\u001B[38;5;124mtotal_bedrooms\u001B[39m\u001B[38;5;124m'\u001B[39m] \u001B[38;5;241m/\u001B[39m df[\u001B[38;5;124m'\u001B[39m\u001B[38;5;124mhouseholds\u001B[39m\u001B[38;5;124m'\u001B[39m]\n\u001B[0;32m      4\u001B[0m df[\u001B[38;5;124m'\u001B[39m\u001B[38;5;124mpopulation_per_household\u001B[39m\u001B[38;5;124m'\u001B[39m] \u001B[38;5;241m=\u001B[39m df[\u001B[38;5;124m'\u001B[39m\u001B[38;5;124mpopulation\u001B[39m\u001B[38;5;124m'\u001B[39m] \u001B[38;5;241m/\u001B[39m df[\u001B[38;5;124m'\u001B[39m\u001B[38;5;124mhouseholds\u001B[39m\u001B[38;5;124m'\u001B[39m]\n",
      "\u001B[1;31mNameError\u001B[0m: name 'df' is not defined"
     ]
    }
   ],
   "source": [
    "# feature engeneering \n",
    "df['rooms_per_household'] = df['total_rooms'] / df['households']\n",
    "df['bedrooms_per_household'] = df['total_bedrooms'] / df['households']\n",
    "df['population_per_household'] = df['population'] / df['households']"
   ],
   "metadata": {
    "collapsed": false,
    "ExecuteTime": {
     "start_time": "2024-08-22T17:34:45.487861200Z"
    }
   },
   "id": "38f4877f19f2044f",
   "execution_count": 18
  },
  {
   "cell_type": "markdown",
   "source": [
    "# Log transformation\n"
   ],
   "metadata": {
    "collapsed": false
   },
   "id": "1174ce5ec88cb7d7"
  },
  {
   "cell_type": "code",
   "outputs": [],
   "source": [
    "#  skewness :  # pay attention to make the feature engineering\n",
    "skewed_cols =[\n",
    "'total_rooms', \n",
    "'median_income', # moderate \n",
    "'households', \n",
    "'population',\n",
    "'total_bedrooms'\n",
    "'population_per_household']"
   ],
   "metadata": {
    "collapsed": false,
    "ExecuteTime": {
     "end_time": "2024-08-22T17:34:45.928559300Z",
     "start_time": "2024-08-22T17:34:45.680623700Z"
    }
   },
   "id": "dc691769bf3943d8",
   "execution_count": 19
  },
  {
   "cell_type": "code",
   "outputs": [
    {
     "ename": "NameError",
     "evalue": "name 'df' is not defined",
     "output_type": "error",
     "traceback": [
      "\u001B[1;31m---------------------------------------------------------------------------\u001B[0m",
      "\u001B[1;31mNameError\u001B[0m                                 Traceback (most recent call last)",
      "Cell \u001B[1;32mIn[20], line 2\u001B[0m\n\u001B[0;32m      1\u001B[0m \u001B[38;5;66;03m# Apply log transformation\u001B[39;00m\n\u001B[1;32m----> 2\u001B[0m df[\u001B[38;5;124m'\u001B[39m\u001B[38;5;124mtotal_rooms_log\u001B[39m\u001B[38;5;124m'\u001B[39m] \u001B[38;5;241m=\u001B[39m np\u001B[38;5;241m.\u001B[39mlog1p(\u001B[43mdf\u001B[49m[\u001B[38;5;124m'\u001B[39m\u001B[38;5;124mtotal_rooms\u001B[39m\u001B[38;5;124m'\u001B[39m])\n\u001B[0;32m      3\u001B[0m df[\u001B[38;5;124m'\u001B[39m\u001B[38;5;124mtotal_bedrooms_log\u001B[39m\u001B[38;5;124m'\u001B[39m] \u001B[38;5;241m=\u001B[39m np\u001B[38;5;241m.\u001B[39mlog1p(df[\u001B[38;5;124m'\u001B[39m\u001B[38;5;124mtotal_bedrooms\u001B[39m\u001B[38;5;124m'\u001B[39m])\n\u001B[0;32m      4\u001B[0m df[\u001B[38;5;124m'\u001B[39m\u001B[38;5;124mpopulation_log\u001B[39m\u001B[38;5;124m'\u001B[39m] \u001B[38;5;241m=\u001B[39m np\u001B[38;5;241m.\u001B[39mlog1p(df[\u001B[38;5;124m'\u001B[39m\u001B[38;5;124mpopulation\u001B[39m\u001B[38;5;124m'\u001B[39m])\n",
      "\u001B[1;31mNameError\u001B[0m: name 'df' is not defined"
     ]
    }
   ],
   "source": [
    "# Apply log transformation\n",
    "df['total_rooms_log'] = np.log1p(df['total_rooms'])\n",
    "df['total_bedrooms_log'] = np.log1p(df['total_bedrooms'])\n",
    "df['population_log'] = np.log1p(df['population'])\n",
    "df['households_log'] = np.log1p(df['households'])\n",
    "df['median_income_log'] = np.log1p(df['median_income'])\n",
    "df['population_per_household_log'] = np.log1p(df['population_per_household'])\n"
   ],
   "metadata": {
    "collapsed": false,
    "ExecuteTime": {
     "end_time": "2024-08-22T17:34:46.191005500Z",
     "start_time": "2024-08-22T17:34:45.933877200Z"
    }
   },
   "id": "d546a0f8291e9e36",
   "execution_count": 20
  },
  {
   "cell_type": "code",
   "outputs": [
    {
     "ename": "NameError",
     "evalue": "name 'df' is not defined",
     "output_type": "error",
     "traceback": [
      "\u001B[1;31m---------------------------------------------------------------------------\u001B[0m",
      "\u001B[1;31mNameError\u001B[0m                                 Traceback (most recent call last)",
      "Cell \u001B[1;32mIn[21], line 16\u001B[0m\n\u001B[0;32m     13\u001B[0m     plt\u001B[38;5;241m.\u001B[39mshow()\n\u001B[0;32m     15\u001B[0m \u001B[38;5;66;03m# Call the function to plot histograms for the log-transformed features\u001B[39;00m\n\u001B[1;32m---> 16\u001B[0m plot_histograms(\u001B[43mdf\u001B[49m, log_features)\n",
      "\u001B[1;31mNameError\u001B[0m: name 'df' is not defined"
     ]
    }
   ],
   "source": [
    "log_features = ['total_rooms_log', 'total_bedrooms_log', 'population_log', 'households_log', 'median_income_log', 'population_per_household_log']\n",
    "\n",
    "# Plot histograms for specific features\n",
    "def plot_histograms(df, features, bins=20):\n",
    "    plt.figure(figsize=(20, 20))\n",
    "    for i, feature in enumerate(features):\n",
    "        plt.subplot(len(features), 1, i + 1)\n",
    "        df[feature].hist(bins=bins, edgecolor='black')\n",
    "        plt.title(f'Histogram of {feature}')\n",
    "        plt.xlabel(feature)\n",
    "        plt.ylabel('Frequency')\n",
    "    plt.tight_layout()\n",
    "    plt.show()\n",
    "\n",
    "# Call the function to plot histograms for the log-transformed features\n",
    "plot_histograms(df, log_features)"
   ],
   "metadata": {
    "collapsed": false,
    "ExecuteTime": {
     "start_time": "2024-08-22T17:34:46.163276100Z"
    }
   },
   "id": "d874d47e497022c0",
   "execution_count": 21
  },
  {
   "cell_type": "code",
   "outputs": [],
   "source": [
    "# normalization : \n",
    "from sklearn.preprocessing import StandardScaler\n",
    "scaler = StandardScaler()"
   ],
   "metadata": {
    "collapsed": false,
    "ExecuteTime": {
     "end_time": "2024-08-22T17:34:46.911702800Z",
     "start_time": "2024-08-22T17:34:46.328266100Z"
    }
   },
   "id": "b898047203d1d281",
   "execution_count": 22
  },
  {
   "cell_type": "code",
   "outputs": [],
   "source": [
    "def standardize(df, scaler,columns):\n",
    "    # Fit and transform the entire DataFrame\n",
    "    df_temp = df.drop(['ocean_proximity', 'median_house_value','total_rooms', \n",
    "'median_income', \n",
    "'households', \n",
    "'population',\n",
    "'total_bedrooms',\n",
    "'population_per_household'], axis=1)\n",
    "    standardized_data = scaler.fit_transform(df_temp)\n",
    "    \n",
    "    # Create a new DataFrame with the standardized data\n",
    "    standardized_df = pd.DataFrame(standardized_data, columns=[col + '_Z_Score' for col in columns], index=df.index)\n",
    "    \n",
    "    return standardized_df"
   ],
   "metadata": {
    "collapsed": false,
    "ExecuteTime": {
     "end_time": "2024-08-22T17:34:46.920168200Z",
     "start_time": "2024-08-22T17:34:46.664044300Z"
    }
   },
   "id": "120b798a04037dbe",
   "execution_count": 23
  },
  {
   "cell_type": "code",
   "outputs": [
    {
     "ename": "NameError",
     "evalue": "name 'df' is not defined",
     "output_type": "error",
     "traceback": [
      "\u001B[1;31m---------------------------------------------------------------------------\u001B[0m",
      "\u001B[1;31mNameError\u001B[0m                                 Traceback (most recent call last)",
      "Cell \u001B[1;32mIn[24], line 1\u001B[0m\n\u001B[1;32m----> 1\u001B[0m \u001B[43mdf\u001B[49m\u001B[38;5;241m.\u001B[39mhead()\n",
      "\u001B[1;31mNameError\u001B[0m: name 'df' is not defined"
     ]
    }
   ],
   "source": [
    "df.head()"
   ],
   "metadata": {
    "collapsed": false,
    "ExecuteTime": {
     "end_time": "2024-08-22T17:34:47.188773500Z",
     "start_time": "2024-08-22T17:34:46.917046Z"
    }
   },
   "id": "a185542c692213dd",
   "execution_count": 24
  },
  {
   "cell_type": "code",
   "outputs": [
    {
     "ename": "NameError",
     "evalue": "name 'df' is not defined",
     "output_type": "error",
     "traceback": [
      "\u001B[1;31m---------------------------------------------------------------------------\u001B[0m",
      "\u001B[1;31mNameError\u001B[0m                                 Traceback (most recent call last)",
      "Cell \u001B[1;32mIn[25], line 1\u001B[0m\n\u001B[1;32m----> 1\u001B[0m columns \u001B[38;5;241m=\u001B[39m \u001B[43mdf\u001B[49m\u001B[38;5;241m.\u001B[39mcolumns\u001B[38;5;241m.\u001B[39mtolist()\n\u001B[0;32m      2\u001B[0m columns\u001B[38;5;241m.\u001B[39mremove(\u001B[38;5;124m'\u001B[39m\u001B[38;5;124mocean_proximity\u001B[39m\u001B[38;5;124m'\u001B[39m)\n\u001B[0;32m      3\u001B[0m columns\u001B[38;5;241m.\u001B[39mremove(\u001B[38;5;124m'\u001B[39m\u001B[38;5;124mmedian_house_value\u001B[39m\u001B[38;5;124m'\u001B[39m)\n",
      "\u001B[1;31mNameError\u001B[0m: name 'df' is not defined"
     ]
    }
   ],
   "source": [
    "columns = df.columns.tolist()\n",
    "columns.remove('ocean_proximity')\n",
    "columns.remove('median_house_value')\n",
    "columns.remove('total_rooms')\n",
    "columns.remove('median_income')\n",
    "columns.remove('households')\n",
    "columns.remove('population')\n",
    "columns.remove('total_bedrooms')\n",
    "columns.remove('population_per_household')\n",
    "columns"
   ],
   "metadata": {
    "collapsed": false,
    "ExecuteTime": {
     "start_time": "2024-08-22T17:34:47.095746800Z"
    }
   },
   "id": "5105a882814e2357",
   "execution_count": 25
  },
  {
   "cell_type": "code",
   "outputs": [
    {
     "ename": "NameError",
     "evalue": "name 'df' is not defined",
     "output_type": "error",
     "traceback": [
      "\u001B[1;31m---------------------------------------------------------------------------\u001B[0m",
      "\u001B[1;31mNameError\u001B[0m                                 Traceback (most recent call last)",
      "Cell \u001B[1;32mIn[26], line 1\u001B[0m\n\u001B[1;32m----> 1\u001B[0m new_df  \u001B[38;5;241m=\u001B[39m standardize(\u001B[43mdf\u001B[49m, scaler,columns)\n\u001B[0;32m      2\u001B[0m new_df\n",
      "\u001B[1;31mNameError\u001B[0m: name 'df' is not defined"
     ]
    }
   ],
   "source": [
    "new_df  = standardize(df, scaler,columns)\n",
    "new_df"
   ],
   "metadata": {
    "collapsed": false,
    "ExecuteTime": {
     "end_time": "2024-08-22T17:34:47.599568900Z",
     "start_time": "2024-08-22T17:34:47.306648400Z"
    }
   },
   "id": "51dbc083e0bd9b25",
   "execution_count": 26
  },
  {
   "cell_type": "code",
   "outputs": [
    {
     "ename": "NameError",
     "evalue": "name 'new_df' is not defined",
     "output_type": "error",
     "traceback": [
      "\u001B[1;31m---------------------------------------------------------------------------\u001B[0m",
      "\u001B[1;31mNameError\u001B[0m                                 Traceback (most recent call last)",
      "Cell \u001B[1;32mIn[27], line 1\u001B[0m\n\u001B[1;32m----> 1\u001B[0m \u001B[43mnew_df\u001B[49m\u001B[38;5;241m.\u001B[39mshape\n",
      "\u001B[1;31mNameError\u001B[0m: name 'new_df' is not defined"
     ]
    }
   ],
   "source": [
    "new_df.shape"
   ],
   "metadata": {
    "collapsed": false,
    "ExecuteTime": {
     "start_time": "2024-08-22T17:34:47.563057600Z"
    }
   },
   "id": "636927964058246d",
   "execution_count": 27
  },
  {
   "cell_type": "code",
   "outputs": [
    {
     "ename": "NameError",
     "evalue": "name 'new_df' is not defined",
     "output_type": "error",
     "traceback": [
      "\u001B[1;31m---------------------------------------------------------------------------\u001B[0m",
      "\u001B[1;31mNameError\u001B[0m                                 Traceback (most recent call last)",
      "Cell \u001B[1;32mIn[28], line 1\u001B[0m\n\u001B[1;32m----> 1\u001B[0m \u001B[43mnew_df\u001B[49m\u001B[38;5;241m.\u001B[39misna()\u001B[38;5;241m.\u001B[39msum()\n",
      "\u001B[1;31mNameError\u001B[0m: name 'new_df' is not defined"
     ]
    }
   ],
   "source": [
    "new_df.isna().sum()"
   ],
   "metadata": {
    "collapsed": false,
    "ExecuteTime": {
     "end_time": "2024-08-22T17:34:48.102523200Z",
     "start_time": "2024-08-22T17:34:47.723646100Z"
    }
   },
   "id": "90b5cfadbd5bd4b3",
   "execution_count": 28
  },
  {
   "cell_type": "code",
   "outputs": [
    {
     "ename": "NameError",
     "evalue": "name 'df' is not defined",
     "output_type": "error",
     "traceback": [
      "\u001B[1;31m---------------------------------------------------------------------------\u001B[0m",
      "\u001B[1;31mNameError\u001B[0m                                 Traceback (most recent call last)",
      "Cell \u001B[1;32mIn[29], line 7\u001B[0m\n\u001B[0;32m      4\u001B[0m encoder \u001B[38;5;241m=\u001B[39m OneHotEncoder(sparse_output\u001B[38;5;241m=\u001B[39m\u001B[38;5;28;01mFalse\u001B[39;00m, drop\u001B[38;5;241m=\u001B[39m\u001B[38;5;124m'\u001B[39m\u001B[38;5;124mfirst\u001B[39m\u001B[38;5;124m'\u001B[39m)  \u001B[38;5;66;03m# drop='first' to avoid multicollinearity\u001B[39;00m\n\u001B[0;32m      6\u001B[0m \u001B[38;5;66;03m# Fit and transform the 'ocean_proximity' column\u001B[39;00m\n\u001B[1;32m----> 7\u001B[0m encoded_array \u001B[38;5;241m=\u001B[39m encoder\u001B[38;5;241m.\u001B[39mfit_transform(\u001B[43mdf\u001B[49m[[\u001B[38;5;124m'\u001B[39m\u001B[38;5;124mocean_proximity\u001B[39m\u001B[38;5;124m'\u001B[39m]])\n\u001B[0;32m      9\u001B[0m \u001B[38;5;66;03m# Convert the encoded array to a DataFrame with the same index as the original DataFrame\u001B[39;00m\n\u001B[0;32m     10\u001B[0m df_encoded \u001B[38;5;241m=\u001B[39m pd\u001B[38;5;241m.\u001B[39mDataFrame(encoded_array, columns\u001B[38;5;241m=\u001B[39mencoder\u001B[38;5;241m.\u001B[39mget_feature_names_out([\u001B[38;5;124m'\u001B[39m\u001B[38;5;124mocean_proximity\u001B[39m\u001B[38;5;124m'\u001B[39m]), index\u001B[38;5;241m=\u001B[39mdf\u001B[38;5;241m.\u001B[39mindex)\n",
      "\u001B[1;31mNameError\u001B[0m: name 'df' is not defined"
     ]
    }
   ],
   "source": [
    "\n",
    "from sklearn.preprocessing import OneHotEncoder\n",
    "\n",
    "# Initialize the encoder\n",
    "encoder = OneHotEncoder(sparse_output=False, drop='first')  # drop='first' to avoid multicollinearity\n",
    "\n",
    "# Fit and transform the 'ocean_proximity' column\n",
    "encoded_array = encoder.fit_transform(df[['ocean_proximity']])\n",
    "\n",
    "# Convert the encoded array to a DataFrame with the same index as the original DataFrame\n",
    "df_encoded = pd.DataFrame(encoded_array, columns=encoder.get_feature_names_out(['ocean_proximity']), index=df.index)\n",
    "\n",
    "# Display the encoded DataFrame\n",
    "df_encoded\n"
   ],
   "metadata": {
    "collapsed": false,
    "ExecuteTime": {
     "start_time": "2024-08-22T17:34:48.012781800Z"
    }
   },
   "id": "1cf51c44657b3ea1",
   "execution_count": 29
  },
  {
   "cell_type": "code",
   "outputs": [
    {
     "ename": "NameError",
     "evalue": "name 'df_encoded' is not defined",
     "output_type": "error",
     "traceback": [
      "\u001B[1;31m---------------------------------------------------------------------------\u001B[0m",
      "\u001B[1;31mNameError\u001B[0m                                 Traceback (most recent call last)",
      "Cell \u001B[1;32mIn[30], line 1\u001B[0m\n\u001B[1;32m----> 1\u001B[0m \u001B[43mdf_encoded\u001B[49m\u001B[38;5;241m.\u001B[39misna()\u001B[38;5;241m.\u001B[39msum()\n",
      "\u001B[1;31mNameError\u001B[0m: name 'df_encoded' is not defined"
     ]
    }
   ],
   "source": [
    "df_encoded.isna().sum()"
   ],
   "metadata": {
    "collapsed": false,
    "ExecuteTime": {
     "end_time": "2024-08-22T17:34:48.582506300Z",
     "start_time": "2024-08-22T17:34:48.261748500Z"
    }
   },
   "id": "f776b8befbce56bd",
   "execution_count": 30
  },
  {
   "cell_type": "code",
   "outputs": [
    {
     "ename": "NameError",
     "evalue": "name 'df_encoded' is not defined",
     "output_type": "error",
     "traceback": [
      "\u001B[1;31m---------------------------------------------------------------------------\u001B[0m",
      "\u001B[1;31mNameError\u001B[0m                                 Traceback (most recent call last)",
      "Cell \u001B[1;32mIn[31], line 1\u001B[0m\n\u001B[1;32m----> 1\u001B[0m \u001B[43mdf_encoded\u001B[49m\u001B[38;5;241m.\u001B[39mshape\n",
      "\u001B[1;31mNameError\u001B[0m: name 'df_encoded' is not defined"
     ]
    }
   ],
   "source": [
    "df_encoded.shape"
   ],
   "metadata": {
    "collapsed": false,
    "ExecuteTime": {
     "start_time": "2024-08-22T17:34:48.545657Z"
    }
   },
   "id": "40b94337e4dbf4c2",
   "execution_count": 31
  },
  {
   "cell_type": "code",
   "outputs": [
    {
     "ename": "NameError",
     "evalue": "name 'df_encoded' is not defined",
     "output_type": "error",
     "traceback": [
      "\u001B[1;31m---------------------------------------------------------------------------\u001B[0m",
      "\u001B[1;31mNameError\u001B[0m                                 Traceback (most recent call last)",
      "Cell \u001B[1;32mIn[32], line 2\u001B[0m\n\u001B[0;32m      1\u001B[0m \u001B[38;5;66;03m# check if indices are similar : \u001B[39;00m\n\u001B[1;32m----> 2\u001B[0m df_encoded_indices \u001B[38;5;241m=\u001B[39m \u001B[43mdf_encoded\u001B[49m\u001B[38;5;241m.\u001B[39mindex\n\u001B[0;32m      3\u001B[0m new_df_indices \u001B[38;5;241m=\u001B[39m new_df\u001B[38;5;241m.\u001B[39mindex\n\u001B[0;32m      4\u001B[0m indices_match \u001B[38;5;241m=\u001B[39m df_encoded_indices\u001B[38;5;241m.\u001B[39mequals(new_df_indices)\n",
      "\u001B[1;31mNameError\u001B[0m: name 'df_encoded' is not defined"
     ]
    }
   ],
   "source": [
    "# check if indices are similar : \n",
    "df_encoded_indices = df_encoded.index\n",
    "new_df_indices = new_df.index\n",
    "indices_match = df_encoded_indices.equals(new_df_indices)\n",
    "print(f\"Indices match: {indices_match}\")\n"
   ],
   "metadata": {
    "collapsed": false,
    "ExecuteTime": {
     "end_time": "2024-08-22T17:34:48.963922100Z",
     "start_time": "2024-08-22T17:34:48.718772800Z"
    }
   },
   "id": "59bdf4519b380ce9",
   "execution_count": 32
  },
  {
   "cell_type": "code",
   "outputs": [
    {
     "ename": "NameError",
     "evalue": "name 'df_encoded_indices' is not defined",
     "output_type": "error",
     "traceback": [
      "\u001B[1;31m---------------------------------------------------------------------------\u001B[0m",
      "\u001B[1;31mNameError\u001B[0m                                 Traceback (most recent call last)",
      "Cell \u001B[1;32mIn[33], line 1\u001B[0m\n\u001B[1;32m----> 1\u001B[0m df_encoded_not_in_new_df \u001B[38;5;241m=\u001B[39m \u001B[43mdf_encoded_indices\u001B[49m\u001B[38;5;241m.\u001B[39mdifference(new_df_indices)\n\u001B[0;32m      2\u001B[0m new_df_not_in_df_encoded \u001B[38;5;241m=\u001B[39m new_df_indices\u001B[38;5;241m.\u001B[39mdifference(df_encoded_indices)\n\u001B[0;32m      3\u001B[0m \u001B[38;5;28mprint\u001B[39m(\u001B[38;5;124mf\u001B[39m\u001B[38;5;124m\"\u001B[39m\u001B[38;5;124mIndices in df_encoded not in df new: \u001B[39m\u001B[38;5;132;01m{\u001B[39;00mdf_encoded_not_in_new_df\u001B[38;5;132;01m}\u001B[39;00m\u001B[38;5;124m\"\u001B[39m)\n",
      "\u001B[1;31mNameError\u001B[0m: name 'df_encoded_indices' is not defined"
     ]
    }
   ],
   "source": [
    "df_encoded_not_in_new_df = df_encoded_indices.difference(new_df_indices)\n",
    "new_df_not_in_df_encoded = new_df_indices.difference(df_encoded_indices)\n",
    "print(f\"Indices in df_encoded not in df new: {df_encoded_not_in_new_df}\")\n",
    "print(f\"Indices in df new not in df_encoded: {new_df_not_in_df_encoded}\")\n"
   ],
   "metadata": {
    "collapsed": false,
    "ExecuteTime": {
     "start_time": "2024-08-22T17:34:48.961492900Z"
    }
   },
   "id": "51dc39b9a8f6029c",
   "execution_count": 33
  },
  {
   "cell_type": "code",
   "outputs": [
    {
     "ename": "NameError",
     "evalue": "name 'new_df' is not defined",
     "output_type": "error",
     "traceback": [
      "\u001B[1;31m---------------------------------------------------------------------------\u001B[0m",
      "\u001B[1;31mNameError\u001B[0m                                 Traceback (most recent call last)",
      "Cell \u001B[1;32mIn[34], line 2\u001B[0m\n\u001B[0;32m      1\u001B[0m \u001B[38;5;66;03m# now gather the whole dataset : \u001B[39;00m\n\u001B[1;32m----> 2\u001B[0m housing_data \u001B[38;5;241m=\u001B[39m pd\u001B[38;5;241m.\u001B[39mconcat([\u001B[43mnew_df\u001B[49m, df_encoded], axis\u001B[38;5;241m=\u001B[39m\u001B[38;5;241m1\u001B[39m)\n\u001B[0;32m      3\u001B[0m housing_data\n",
      "\u001B[1;31mNameError\u001B[0m: name 'new_df' is not defined"
     ]
    }
   ],
   "source": [
    "# now gather the whole dataset : \n",
    "housing_data = pd.concat([new_df, df_encoded], axis=1)\n",
    "housing_data"
   ],
   "metadata": {
    "collapsed": false,
    "ExecuteTime": {
     "end_time": "2024-08-22T17:34:49.445160900Z",
     "start_time": "2024-08-22T17:34:49.189701800Z"
    }
   },
   "id": "eff7497bd8e5e796",
   "execution_count": 34
  },
  {
   "cell_type": "code",
   "outputs": [
    {
     "ename": "NameError",
     "evalue": "name 'housing_data' is not defined",
     "output_type": "error",
     "traceback": [
      "\u001B[1;31m---------------------------------------------------------------------------\u001B[0m",
      "\u001B[1;31mNameError\u001B[0m                                 Traceback (most recent call last)",
      "Cell \u001B[1;32mIn[35], line 1\u001B[0m\n\u001B[1;32m----> 1\u001B[0m \u001B[43mhousing_data\u001B[49m\u001B[38;5;241m.\u001B[39misna()\u001B[38;5;241m.\u001B[39msum()\n",
      "\u001B[1;31mNameError\u001B[0m: name 'housing_data' is not defined"
     ]
    }
   ],
   "source": [
    "housing_data.isna().sum()"
   ],
   "metadata": {
    "collapsed": false,
    "ExecuteTime": {
     "start_time": "2024-08-22T17:34:49.388805Z"
    }
   },
   "id": "214b7773ff335c53",
   "execution_count": 35
  },
  {
   "cell_type": "code",
   "outputs": [
    {
     "ename": "NameError",
     "evalue": "name 'housing_data' is not defined",
     "output_type": "error",
     "traceback": [
      "\u001B[1;31m---------------------------------------------------------------------------\u001B[0m",
      "\u001B[1;31mNameError\u001B[0m                                 Traceback (most recent call last)",
      "Cell \u001B[1;32mIn[36], line 1\u001B[0m\n\u001B[1;32m----> 1\u001B[0m \u001B[43mhousing_data\u001B[49m\u001B[38;5;241m.\u001B[39mshape\n",
      "\u001B[1;31mNameError\u001B[0m: name 'housing_data' is not defined"
     ]
    }
   ],
   "source": [
    "housing_data.shape"
   ],
   "metadata": {
    "collapsed": false,
    "ExecuteTime": {
     "end_time": "2024-08-22T17:34:49.929615400Z",
     "start_time": "2024-08-22T17:34:49.593926500Z"
    }
   },
   "id": "d356e17d5cec1a1a",
   "execution_count": 36
  },
  {
   "cell_type": "code",
   "outputs": [
    {
     "ename": "NameError",
     "evalue": "name 'housing_data' is not defined",
     "output_type": "error",
     "traceback": [
      "\u001B[1;31m---------------------------------------------------------------------------\u001B[0m",
      "\u001B[1;31mNameError\u001B[0m                                 Traceback (most recent call last)",
      "Cell \u001B[1;32mIn[37], line 1\u001B[0m\n\u001B[1;32m----> 1\u001B[0m \u001B[43mhousing_data\u001B[49m\u001B[38;5;241m.\u001B[39mtail()\n",
      "\u001B[1;31mNameError\u001B[0m: name 'housing_data' is not defined"
     ]
    }
   ],
   "source": [
    "housing_data.tail()"
   ],
   "metadata": {
    "collapsed": false,
    "ExecuteTime": {
     "start_time": "2024-08-22T17:34:49.914523500Z"
    }
   },
   "id": "e0ce1ae599276367",
   "execution_count": 37
  },
  {
   "cell_type": "code",
   "outputs": [
    {
     "ename": "NameError",
     "evalue": "name 'housing_data' is not defined",
     "output_type": "error",
     "traceback": [
      "\u001B[1;31m---------------------------------------------------------------------------\u001B[0m",
      "\u001B[1;31mNameError\u001B[0m                                 Traceback (most recent call last)",
      "Cell \u001B[1;32mIn[38], line 1\u001B[0m\n\u001B[1;32m----> 1\u001B[0m \u001B[43mhousing_data\u001B[49m\u001B[38;5;241m.\u001B[39mcolumns\u001B[38;5;241m.\u001B[39mtolist()\n",
      "\u001B[1;31mNameError\u001B[0m: name 'housing_data' is not defined"
     ]
    }
   ],
   "source": [
    "housing_data.columns.tolist()"
   ],
   "metadata": {
    "collapsed": false,
    "ExecuteTime": {
     "end_time": "2024-08-22T17:34:50.401991200Z",
     "start_time": "2024-08-22T17:34:50.097329600Z"
    }
   },
   "id": "5c40b55c187af06a",
   "execution_count": 38
  },
  {
   "cell_type": "markdown",
   "source": [
    "# Data Visualization :  "
   ],
   "metadata": {
    "collapsed": false
   },
   "id": "b42df6f9518aa316"
  },
  {
   "cell_type": "code",
   "outputs": [
    {
     "ename": "NameError",
     "evalue": "name 'housing_data' is not defined",
     "output_type": "error",
     "traceback": [
      "\u001B[1;31m---------------------------------------------------------------------------\u001B[0m",
      "\u001B[1;31mNameError\u001B[0m                                 Traceback (most recent call last)",
      "Cell \u001B[1;32mIn[39], line 1\u001B[0m\n\u001B[1;32m----> 1\u001B[0m \u001B[43mhousing_data\u001B[49m\u001B[38;5;241m.\u001B[39minfo()\n",
      "\u001B[1;31mNameError\u001B[0m: name 'housing_data' is not defined"
     ]
    }
   ],
   "source": [
    "housing_data.info()"
   ],
   "metadata": {
    "collapsed": false,
    "ExecuteTime": {
     "end_time": "2024-08-22T17:34:50.692446900Z",
     "start_time": "2024-08-22T17:34:50.401991200Z"
    }
   },
   "id": "49a65988d57b7b88",
   "execution_count": 39
  },
  {
   "cell_type": "code",
   "outputs": [
    {
     "ename": "NameError",
     "evalue": "name 'housing_data' is not defined",
     "output_type": "error",
     "traceback": [
      "\u001B[1;31m---------------------------------------------------------------------------\u001B[0m",
      "\u001B[1;31mNameError\u001B[0m                                 Traceback (most recent call last)",
      "Cell \u001B[1;32mIn[40], line 1\u001B[0m\n\u001B[1;32m----> 1\u001B[0m \u001B[43mhousing_data\u001B[49m\u001B[38;5;241m.\u001B[39misna()\u001B[38;5;241m.\u001B[39msum()\n",
      "\u001B[1;31mNameError\u001B[0m: name 'housing_data' is not defined"
     ]
    }
   ],
   "source": [
    "housing_data.isna().sum()"
   ],
   "metadata": {
    "collapsed": false,
    "ExecuteTime": {
     "start_time": "2024-08-22T17:34:50.660859700Z"
    }
   },
   "id": "832f95f844dafb43",
   "execution_count": 40
  },
  {
   "cell_type": "code",
   "outputs": [
    {
     "ename": "NameError",
     "evalue": "name 'df' is not defined",
     "output_type": "error",
     "traceback": [
      "\u001B[1;31m---------------------------------------------------------------------------\u001B[0m",
      "\u001B[1;31mNameError\u001B[0m                                 Traceback (most recent call last)",
      "Cell \u001B[1;32mIn[41], line 2\u001B[0m\n\u001B[0;32m      1\u001B[0m \u001B[38;5;66;03m# ensure that the rows dont get skrewed\u001B[39;00m\n\u001B[1;32m----> 2\u001B[0m housing_data[\u001B[38;5;124m'\u001B[39m\u001B[38;5;124mmedian_house_value\u001B[39m\u001B[38;5;124m'\u001B[39m] \u001B[38;5;241m=\u001B[39m \u001B[43mdf\u001B[49m[\u001B[38;5;124m'\u001B[39m\u001B[38;5;124mmedian_house_value\u001B[39m\u001B[38;5;124m'\u001B[39m]\n",
      "\u001B[1;31mNameError\u001B[0m: name 'df' is not defined"
     ]
    }
   ],
   "source": [
    "# ensure that the rows dont get skrewed\n",
    "housing_data['median_house_value'] = df['median_house_value']"
   ],
   "metadata": {
    "collapsed": false,
    "ExecuteTime": {
     "end_time": "2024-08-22T17:34:51.228200100Z",
     "start_time": "2024-08-22T17:34:50.823722700Z"
    }
   },
   "id": "bb61e7a64c4b8c17",
   "execution_count": 41
  },
  {
   "cell_type": "code",
   "outputs": [
    {
     "ename": "NameError",
     "evalue": "name 'housing_data' is not defined",
     "output_type": "error",
     "traceback": [
      "\u001B[1;31m---------------------------------------------------------------------------\u001B[0m",
      "\u001B[1;31mNameError\u001B[0m                                 Traceback (most recent call last)",
      "Cell \u001B[1;32mIn[42], line 1\u001B[0m\n\u001B[1;32m----> 1\u001B[0m \u001B[43mhousing_data\u001B[49m\u001B[38;5;241m.\u001B[39mhead()\n",
      "\u001B[1;31mNameError\u001B[0m: name 'housing_data' is not defined"
     ]
    }
   ],
   "source": [
    "housing_data.head()"
   ],
   "metadata": {
    "collapsed": false,
    "ExecuteTime": {
     "start_time": "2024-08-22T17:34:51.145080100Z"
    }
   },
   "id": "136764bfec6af9a2",
   "execution_count": 42
  },
  {
   "cell_type": "code",
   "outputs": [
    {
     "ename": "NameError",
     "evalue": "name 'housing_data' is not defined",
     "output_type": "error",
     "traceback": [
      "\u001B[1;31m---------------------------------------------------------------------------\u001B[0m",
      "\u001B[1;31mNameError\u001B[0m                                 Traceback (most recent call last)",
      "Cell \u001B[1;32mIn[43], line 2\u001B[0m\n\u001B[0;32m      1\u001B[0m \u001B[38;5;66;03m# data distribution : \u001B[39;00m\n\u001B[1;32m----> 2\u001B[0m \u001B[43mhousing_data\u001B[49m\u001B[38;5;241m.\u001B[39mhist(bins\u001B[38;5;241m=\u001B[39m\u001B[38;5;241m20\u001B[39m, figsize\u001B[38;5;241m=\u001B[39m(\u001B[38;5;241m20\u001B[39m, \u001B[38;5;241m20\u001B[39m))\n\u001B[0;32m      3\u001B[0m plt\u001B[38;5;241m.\u001B[39mshow()\n",
      "\u001B[1;31mNameError\u001B[0m: name 'housing_data' is not defined"
     ]
    }
   ],
   "source": [
    "# data distribution : \n",
    "housing_data.hist(bins=20, figsize=(20, 20))\n",
    "plt.show()"
   ],
   "metadata": {
    "collapsed": false,
    "ExecuteTime": {
     "end_time": "2024-08-22T17:34:51.673350600Z",
     "start_time": "2024-08-22T17:34:51.413198600Z"
    }
   },
   "id": "14216e28fbcf63f1",
   "execution_count": 43
  },
  {
   "cell_type": "code",
   "outputs": [
    {
     "data": {
      "text/plain": "\"df1 = df.drop(['ocean_proximity'], axis= 1)\\ndf2 = pd.concat([df1,df_encoded], axis=1)\\ndf2.hist(bins=20, figsize=(20, 20))\\nplt.show()\""
     },
     "execution_count": 44,
     "metadata": {},
     "output_type": "execute_result"
    }
   ],
   "source": [
    "#visualization tha raw data : \n",
    "'''df1 = df.drop(['ocean_proximity'], axis= 1)\n",
    "df2 = pd.concat([df1,df_encoded], axis=1)\n",
    "df2.hist(bins=20, figsize=(20, 20))\n",
    "plt.show()'''"
   ],
   "metadata": {
    "collapsed": false,
    "ExecuteTime": {
     "end_time": "2024-08-22T17:34:51.840660500Z",
     "start_time": "2024-08-22T17:34:51.645703500Z"
    }
   },
   "id": "2e4e1e69ed53526f",
   "execution_count": 44
  },
  {
   "cell_type": "code",
   "outputs": [
    {
     "ename": "NameError",
     "evalue": "name 'housing_data' is not defined",
     "output_type": "error",
     "traceback": [
      "\u001B[1;31m---------------------------------------------------------------------------\u001B[0m",
      "\u001B[1;31mNameError\u001B[0m                                 Traceback (most recent call last)",
      "Cell \u001B[1;32mIn[45], line 6\u001B[0m\n\u001B[0;32m      3\u001B[0m threshold \u001B[38;5;241m=\u001B[39m \u001B[38;5;241m3\u001B[39m\n\u001B[0;32m      5\u001B[0m \u001B[38;5;66;03m# Identify outliers\u001B[39;00m\n\u001B[1;32m----> 6\u001B[0m outliers_rooms \u001B[38;5;241m=\u001B[39m \u001B[43mhousing_data\u001B[49m[np\u001B[38;5;241m.\u001B[39mabs(housing_data[\u001B[38;5;124m'\u001B[39m\u001B[38;5;124mrooms_per_household_Z_Score\u001B[39m\u001B[38;5;124m'\u001B[39m]) \u001B[38;5;241m>\u001B[39m threshold]\n\u001B[0;32m      7\u001B[0m outliers_bedrooms \u001B[38;5;241m=\u001B[39m housing_data[np\u001B[38;5;241m.\u001B[39mabs(housing_data[\u001B[38;5;124m'\u001B[39m\u001B[38;5;124mbedrooms_per_household_Z_Score\u001B[39m\u001B[38;5;124m'\u001B[39m]) \u001B[38;5;241m>\u001B[39m threshold]\n\u001B[0;32m      8\u001B[0m outliers_population \u001B[38;5;241m=\u001B[39m housing_data[np\u001B[38;5;241m.\u001B[39mabs(housing_data[\u001B[38;5;124m'\u001B[39m\u001B[38;5;124mpopulation_per_household_log_Z_Score\u001B[39m\u001B[38;5;124m'\u001B[39m]) \u001B[38;5;241m>\u001B[39m threshold]\n",
      "\u001B[1;31mNameError\u001B[0m: name 'housing_data' is not defined"
     ]
    }
   ],
   "source": [
    "# remove outliers : \n",
    "# Define the threshold for outliers\n",
    "threshold = 3\n",
    "\n",
    "# Identify outliers\n",
    "outliers_rooms = housing_data[np.abs(housing_data['rooms_per_household_Z_Score']) > threshold]\n",
    "outliers_bedrooms = housing_data[np.abs(housing_data['bedrooms_per_household_Z_Score']) > threshold]\n",
    "outliers_population = housing_data[np.abs(housing_data['population_per_household_log_Z_Score']) > threshold]\n",
    " \n",
    "\n",
    "\n",
    "outliers_bedrooms\n",
    "#outliers_rooms"
   ],
   "metadata": {
    "collapsed": false,
    "ExecuteTime": {
     "end_time": "2024-08-22T17:34:52.121015900Z",
     "start_time": "2024-08-22T17:34:51.836103200Z"
    }
   },
   "id": "738b04d01a62bc77",
   "execution_count": 45
  },
  {
   "cell_type": "code",
   "outputs": [
    {
     "ename": "NameError",
     "evalue": "name 'housing_data' is not defined",
     "output_type": "error",
     "traceback": [
      "\u001B[1;31m---------------------------------------------------------------------------\u001B[0m",
      "\u001B[1;31mNameError\u001B[0m                                 Traceback (most recent call last)",
      "Cell \u001B[1;32mIn[46], line 2\u001B[0m\n\u001B[0;32m      1\u001B[0m \u001B[38;5;66;03m# Remove outliers\u001B[39;00m\n\u001B[1;32m----> 2\u001B[0m housing_data_no_outliers \u001B[38;5;241m=\u001B[39m \u001B[43mhousing_data\u001B[49m[(np\u001B[38;5;241m.\u001B[39mabs(housing_data[\u001B[38;5;124m'\u001B[39m\u001B[38;5;124mrooms_per_household_Z_Score\u001B[39m\u001B[38;5;124m'\u001B[39m]) \u001B[38;5;241m<\u001B[39m\u001B[38;5;241m=\u001B[39m threshold) \u001B[38;5;241m&\u001B[39m \n\u001B[0;32m      3\u001B[0m                     (np\u001B[38;5;241m.\u001B[39mabs(housing_data[\u001B[38;5;124m'\u001B[39m\u001B[38;5;124mbedrooms_per_household_Z_Score\u001B[39m\u001B[38;5;124m'\u001B[39m]) \u001B[38;5;241m<\u001B[39m\u001B[38;5;241m=\u001B[39m threshold) \u001B[38;5;241m&\u001B[39m\n\u001B[0;32m      4\u001B[0m                     (np\u001B[38;5;241m.\u001B[39mabs(housing_data[\u001B[38;5;124m'\u001B[39m\u001B[38;5;124mpopulation_per_household_log_Z_Score\u001B[39m\u001B[38;5;124m'\u001B[39m]) \u001B[38;5;241m<\u001B[39m\u001B[38;5;241m=\u001B[39m threshold)]\n",
      "\u001B[1;31mNameError\u001B[0m: name 'housing_data' is not defined"
     ]
    }
   ],
   "source": [
    "# Remove outliers\n",
    "housing_data_no_outliers = housing_data[(np.abs(housing_data['rooms_per_household_Z_Score']) <= threshold) & \n",
    "                    (np.abs(housing_data['bedrooms_per_household_Z_Score']) <= threshold) &\n",
    "                    (np.abs(housing_data['population_per_household_log_Z_Score']) <= threshold)]\n"
   ],
   "metadata": {
    "collapsed": false,
    "ExecuteTime": {
     "start_time": "2024-08-22T17:34:52.070360700Z"
    }
   },
   "id": "c47a75f8436f69d4",
   "execution_count": 46
  },
  {
   "cell_type": "code",
   "outputs": [
    {
     "ename": "NameError",
     "evalue": "name 'housing_data_no_outliers' is not defined",
     "output_type": "error",
     "traceback": [
      "\u001B[1;31m---------------------------------------------------------------------------\u001B[0m",
      "\u001B[1;31mNameError\u001B[0m                                 Traceback (most recent call last)",
      "Cell \u001B[1;32mIn[47], line 2\u001B[0m\n\u001B[0;32m      1\u001B[0m \u001B[38;5;66;03m# data distribution : \u001B[39;00m\n\u001B[1;32m----> 2\u001B[0m \u001B[43mhousing_data_no_outliers\u001B[49m\u001B[38;5;241m.\u001B[39mhist(bins\u001B[38;5;241m=\u001B[39m\u001B[38;5;241m20\u001B[39m, figsize\u001B[38;5;241m=\u001B[39m(\u001B[38;5;241m20\u001B[39m, \u001B[38;5;241m20\u001B[39m))\n\u001B[0;32m      3\u001B[0m plt\u001B[38;5;241m.\u001B[39mshow()\n",
      "\u001B[1;31mNameError\u001B[0m: name 'housing_data_no_outliers' is not defined"
     ]
    }
   ],
   "source": [
    "# data distribution : \n",
    "housing_data_no_outliers.hist(bins=20, figsize=(20, 20))\n",
    "plt.show()"
   ],
   "metadata": {
    "collapsed": false,
    "ExecuteTime": {
     "end_time": "2024-08-22T17:34:52.521959300Z",
     "start_time": "2024-08-22T17:34:52.245873600Z"
    }
   },
   "id": "8b46fb3873af0c68",
   "execution_count": 47
  },
  {
   "cell_type": "code",
   "outputs": [
    {
     "ename": "NameError",
     "evalue": "name 'housing_data_no_outliers' is not defined",
     "output_type": "error",
     "traceback": [
      "\u001B[1;31m---------------------------------------------------------------------------\u001B[0m",
      "\u001B[1;31mNameError\u001B[0m                                 Traceback (most recent call last)",
      "Cell \u001B[1;32mIn[48], line 2\u001B[0m\n\u001B[0;32m      1\u001B[0m \u001B[38;5;66;03m# Explicitly creating a copy of the DataFrame\u001B[39;00m\n\u001B[1;32m----> 2\u001B[0m housing_data_no_outliers \u001B[38;5;241m=\u001B[39m \u001B[43mhousing_data_no_outliers\u001B[49m\u001B[38;5;241m.\u001B[39mcopy()\n\u001B[0;32m      4\u001B[0m \u001B[38;5;66;03m# Then perform the operation\u001B[39;00m\n\u001B[0;32m      5\u001B[0m housing_data_no_outliers[\u001B[38;5;124m'\u001B[39m\u001B[38;5;124msqrt_median_house_value\u001B[39m\u001B[38;5;124m'\u001B[39m] \u001B[38;5;241m=\u001B[39m np\u001B[38;5;241m.\u001B[39msqrt(housing_data_no_outliers[\u001B[38;5;124m'\u001B[39m\u001B[38;5;124mmedian_house_value\u001B[39m\u001B[38;5;124m'\u001B[39m])\n",
      "\u001B[1;31mNameError\u001B[0m: name 'housing_data_no_outliers' is not defined"
     ]
    }
   ],
   "source": [
    "# Explicitly creating a copy of the DataFrame\n",
    "housing_data_no_outliers = housing_data_no_outliers.copy()\n",
    "\n",
    "# Then perform the operation\n",
    "housing_data_no_outliers['sqrt_median_house_value'] = np.sqrt(housing_data_no_outliers['median_house_value'])\n"
   ],
   "metadata": {
    "collapsed": false,
    "ExecuteTime": {
     "start_time": "2024-08-22T17:34:52.513128200Z"
    }
   },
   "id": "29810344ac332169",
   "execution_count": 48
  },
  {
   "cell_type": "code",
   "outputs": [
    {
     "ename": "NameError",
     "evalue": "name 'housing_data_no_outliers' is not defined",
     "output_type": "error",
     "traceback": [
      "\u001B[1;31m---------------------------------------------------------------------------\u001B[0m",
      "\u001B[1;31mNameError\u001B[0m                                 Traceback (most recent call last)",
      "Cell \u001B[1;32mIn[49], line 1\u001B[0m\n\u001B[1;32m----> 1\u001B[0m \u001B[43mhousing_data_no_outliers\u001B[49m\u001B[38;5;241m.\u001B[39mhist(bins\u001B[38;5;241m=\u001B[39m\u001B[38;5;241m20\u001B[39m, figsize\u001B[38;5;241m=\u001B[39m(\u001B[38;5;241m20\u001B[39m, \u001B[38;5;241m20\u001B[39m))\n\u001B[0;32m      2\u001B[0m plt\u001B[38;5;241m.\u001B[39mshow()\n",
      "\u001B[1;31mNameError\u001B[0m: name 'housing_data_no_outliers' is not defined"
     ]
    }
   ],
   "source": [
    "housing_data_no_outliers.hist(bins=20, figsize=(20, 20))\n",
    "plt.show()"
   ],
   "metadata": {
    "collapsed": false,
    "ExecuteTime": {
     "end_time": "2024-08-22T17:34:52.996076Z",
     "start_time": "2024-08-22T17:34:52.745894600Z"
    }
   },
   "id": "335ef6e76007beab",
   "execution_count": 49
  },
  {
   "cell_type": "code",
   "outputs": [
    {
     "ename": "NameError",
     "evalue": "name 'housing_data_no_outliers' is not defined",
     "output_type": "error",
     "traceback": [
      "\u001B[1;31m---------------------------------------------------------------------------\u001B[0m",
      "\u001B[1;31mNameError\u001B[0m                                 Traceback (most recent call last)",
      "Cell \u001B[1;32mIn[50], line 2\u001B[0m\n\u001B[0;32m      1\u001B[0m \u001B[38;5;66;03m# Checking for outliers using IQR method\u001B[39;00m\n\u001B[1;32m----> 2\u001B[0m Q1 \u001B[38;5;241m=\u001B[39m \u001B[43mhousing_data_no_outliers\u001B[49m[\u001B[38;5;124m'\u001B[39m\u001B[38;5;124msqrt_median_house_value\u001B[39m\u001B[38;5;124m'\u001B[39m]\u001B[38;5;241m.\u001B[39mquantile(\u001B[38;5;241m0.25\u001B[39m)\n\u001B[0;32m      3\u001B[0m Q3 \u001B[38;5;241m=\u001B[39m housing_data_no_outliers[\u001B[38;5;124m'\u001B[39m\u001B[38;5;124msqrt_median_house_value\u001B[39m\u001B[38;5;124m'\u001B[39m]\u001B[38;5;241m.\u001B[39mquantile(\u001B[38;5;241m0.75\u001B[39m)\n\u001B[0;32m      4\u001B[0m IQR \u001B[38;5;241m=\u001B[39m Q3 \u001B[38;5;241m-\u001B[39m Q1\n",
      "\u001B[1;31mNameError\u001B[0m: name 'housing_data_no_outliers' is not defined"
     ]
    }
   ],
   "source": [
    "# Checking for outliers using IQR method\n",
    "Q1 = housing_data_no_outliers['sqrt_median_house_value'].quantile(0.25)\n",
    "Q3 = housing_data_no_outliers['sqrt_median_house_value'].quantile(0.75)\n",
    "IQR = Q3 - Q1\n",
    "outliers = housing_data_no_outliers[(housing_data_no_outliers['sqrt_median_house_value'] < (Q1 - 1.5 * IQR)) | (housing_data_no_outliers['sqrt_median_house_value'] > (Q3 + 1.5 * IQR))]\n",
    "\n",
    "print(f'Number of outliers: {len(outliers)}')\n",
    "\n",
    "# Optionally, remove outliers\n",
    "''''final_df = housing_data_no_outliers[~((housing_data_no_outliers['sqrt_median_house_value'] < (Q1 - 1.5 * IQR)) | (housing_data_no_outliers['sqrt_median_house_value'] > (Q3 + 1.5 * IQR)))]'''\n"
   ],
   "metadata": {
    "collapsed": false,
    "ExecuteTime": {
     "start_time": "2024-08-22T17:34:52.940359200Z"
    }
   },
   "id": "fdf97add86e3c540",
   "execution_count": 50
  },
  {
   "cell_type": "code",
   "outputs": [
    {
     "ename": "NameError",
     "evalue": "name 'housing_data_no_outliers' is not defined",
     "output_type": "error",
     "traceback": [
      "\u001B[1;31m---------------------------------------------------------------------------\u001B[0m",
      "\u001B[1;31mNameError\u001B[0m                                 Traceback (most recent call last)",
      "Cell \u001B[1;32mIn[51], line 2\u001B[0m\n\u001B[0;32m      1\u001B[0m \u001B[38;5;66;03m# Calculate the Z-scores\u001B[39;00m\n\u001B[1;32m----> 2\u001B[0m housing_data_no_outliers[\u001B[38;5;124m'\u001B[39m\u001B[38;5;124mtarget_z_score\u001B[39m\u001B[38;5;124m'\u001B[39m] \u001B[38;5;241m=\u001B[39m (\u001B[43mhousing_data_no_outliers\u001B[49m[\u001B[38;5;124m'\u001B[39m\u001B[38;5;124msqrt_median_house_value\u001B[39m\u001B[38;5;124m'\u001B[39m] \u001B[38;5;241m-\u001B[39m housing_data_no_outliers[\u001B[38;5;124m'\u001B[39m\u001B[38;5;124msqrt_median_house_value\u001B[39m\u001B[38;5;124m'\u001B[39m]\u001B[38;5;241m.\u001B[39mmean()) \u001B[38;5;241m/\u001B[39m housing_data_no_outliers[\u001B[38;5;124m'\u001B[39m\u001B[38;5;124msqrt_median_house_value\u001B[39m\u001B[38;5;124m'\u001B[39m]\u001B[38;5;241m.\u001B[39mstd()\n\u001B[0;32m      4\u001B[0m \u001B[38;5;66;03m# Identify outliers based on Z-score\u001B[39;00m\n\u001B[0;32m      5\u001B[0m outliers_zscore \u001B[38;5;241m=\u001B[39m housing_data_no_outliers[np\u001B[38;5;241m.\u001B[39mabs(housing_data_no_outliers[\u001B[38;5;124m'\u001B[39m\u001B[38;5;124mtarget_z_score\u001B[39m\u001B[38;5;124m'\u001B[39m]) \u001B[38;5;241m>\u001B[39m \u001B[38;5;241m3\u001B[39m]\n",
      "\u001B[1;31mNameError\u001B[0m: name 'housing_data_no_outliers' is not defined"
     ]
    }
   ],
   "source": [
    "# Calculate the Z-scores\n",
    "housing_data_no_outliers['target_z_score'] = (housing_data_no_outliers['sqrt_median_house_value'] - housing_data_no_outliers['sqrt_median_house_value'].mean()) / housing_data_no_outliers['sqrt_median_house_value'].std()\n",
    "\n",
    "# Identify outliers based on Z-score\n",
    "outliers_zscore = housing_data_no_outliers[np.abs(housing_data_no_outliers['target_z_score']) > 3]\n",
    "outliers_zscore.shape "
   ],
   "metadata": {
    "collapsed": false,
    "ExecuteTime": {
     "end_time": "2024-08-22T17:34:53.461809300Z",
     "start_time": "2024-08-22T17:34:53.183875500Z"
    }
   },
   "id": "6529d5fe966e9d19",
   "execution_count": 51
  },
  {
   "cell_type": "code",
   "outputs": [
    {
     "ename": "NameError",
     "evalue": "name 'housing_data_no_outliers' is not defined",
     "output_type": "error",
     "traceback": [
      "\u001B[1;31m---------------------------------------------------------------------------\u001B[0m",
      "\u001B[1;31mNameError\u001B[0m                                 Traceback (most recent call last)",
      "Cell \u001B[1;32mIn[52], line 3\u001B[0m\n\u001B[0;32m      1\u001B[0m \u001B[38;5;66;03m# ok so we dont have outliers here ! \u001B[39;00m\n\u001B[0;32m      2\u001B[0m \u001B[38;5;66;03m# now it is time to visualize the relationship between featues/ target variable : \u001B[39;00m\n\u001B[1;32m----> 3\u001B[0m \u001B[43mhousing_data_no_outliers\u001B[49m\u001B[38;5;241m.\u001B[39mcolumns\n",
      "\u001B[1;31mNameError\u001B[0m: name 'housing_data_no_outliers' is not defined"
     ]
    }
   ],
   "source": [
    "# ok so we dont have outliers here ! \n",
    "# now it is time to visualize the relationship between featues/ target variable : \n",
    "housing_data_no_outliers.columns"
   ],
   "metadata": {
    "collapsed": false,
    "ExecuteTime": {
     "start_time": "2024-08-22T17:34:53.459672900Z"
    }
   },
   "id": "65fea5132cd4dfb3",
   "execution_count": 52
  },
  {
   "cell_type": "code",
   "outputs": [
    {
     "ename": "NameError",
     "evalue": "name 'housing_data_no_outliers' is not defined",
     "output_type": "error",
     "traceback": [
      "\u001B[1;31m---------------------------------------------------------------------------\u001B[0m",
      "\u001B[1;31mNameError\u001B[0m                                 Traceback (most recent call last)",
      "Cell \u001B[1;32mIn[53], line 1\u001B[0m\n\u001B[1;32m----> 1\u001B[0m \u001B[38;5;28;01mfor\u001B[39;00m col \u001B[38;5;129;01min\u001B[39;00m \u001B[43mhousing_data_no_outliers\u001B[49m\u001B[38;5;241m.\u001B[39mcolumns : \n\u001B[0;32m      2\u001B[0m     relationship(housing_data_no_outliers, col)\n",
      "\u001B[1;31mNameError\u001B[0m: name 'housing_data_no_outliers' is not defined"
     ]
    }
   ],
   "source": [
    "for col in housing_data_no_outliers.columns : \n",
    "    relationship(housing_data_no_outliers, col)"
   ],
   "metadata": {
    "collapsed": false,
    "ExecuteTime": {
     "end_time": "2024-08-22T17:34:53.986797300Z",
     "start_time": "2024-08-22T17:34:53.715626500Z"
    }
   },
   "id": "ac2625b487646045",
   "execution_count": 53
  },
  {
   "cell_type": "code",
   "outputs": [
    {
     "ename": "NameError",
     "evalue": "name 'housing_data_no_outliers' is not defined",
     "output_type": "error",
     "traceback": [
      "\u001B[1;31m---------------------------------------------------------------------------\u001B[0m",
      "\u001B[1;31mNameError\u001B[0m                                 Traceback (most recent call last)",
      "Cell \u001B[1;32mIn[54], line 22\u001B[0m\n\u001B[0;32m     13\u001B[0m zscore_columns \u001B[38;5;241m=\u001B[39m [\n\u001B[0;32m     14\u001B[0m     \u001B[38;5;124m'\u001B[39m\u001B[38;5;124mlongitude_Z_Score\u001B[39m\u001B[38;5;124m'\u001B[39m, \u001B[38;5;124m'\u001B[39m\u001B[38;5;124mlatitude_Z_Score\u001B[39m\u001B[38;5;124m'\u001B[39m, \u001B[38;5;124m'\u001B[39m\u001B[38;5;124mhousing_median_age_Z_Score\u001B[39m\u001B[38;5;124m'\u001B[39m,\n\u001B[0;32m     15\u001B[0m     \u001B[38;5;124m'\u001B[39m\u001B[38;5;124mrooms_per_household_Z_Score\u001B[39m\u001B[38;5;124m'\u001B[39m, \u001B[38;5;124m'\u001B[39m\u001B[38;5;124mbedrooms_per_household_Z_Score\u001B[39m\u001B[38;5;124m'\u001B[39m,\n\u001B[1;32m   (...)\u001B[0m\n\u001B[0;32m     18\u001B[0m     \u001B[38;5;124m'\u001B[39m\u001B[38;5;124mmedian_income_log_Z_Score\u001B[39m\u001B[38;5;124m'\u001B[39m, \u001B[38;5;124m'\u001B[39m\u001B[38;5;124mpopulation_per_household_log_Z_Score\u001B[39m\u001B[38;5;124m'\u001B[39m\n\u001B[0;32m     19\u001B[0m ]\n\u001B[0;32m     21\u001B[0m \u001B[38;5;66;03m# Assuming 'df' is your DataFrame\u001B[39;00m\n\u001B[1;32m---> 22\u001B[0m outliers_zscore \u001B[38;5;241m=\u001B[39m detect_outliers_zscore(\u001B[43mhousing_data_no_outliers\u001B[49m, zscore_columns)\n\u001B[0;32m     23\u001B[0m housing_data_no_outliers_cleaned \u001B[38;5;241m=\u001B[39m housing_data_no_outliers\u001B[38;5;241m.\u001B[39mdrop(outliers_zscore\u001B[38;5;241m.\u001B[39mindex)\n\u001B[0;32m     24\u001B[0m housing_data_no_outliers_cleaned\u001B[38;5;241m.\u001B[39mshape\n",
      "\u001B[1;31mNameError\u001B[0m: name 'housing_data_no_outliers' is not defined"
     ]
    }
   ],
   "source": [
    "# Function to detect outliers using Z-score method\n",
    "def detect_outliers_zscore(df, columns, threshold=3):\n",
    "    outliers_list = []\n",
    "    for column in columns:\n",
    "        if column in df.columns:\n",
    "            z_scores = df[column]\n",
    "            outliers = df[(z_scores > threshold) | (z_scores < -threshold)]\n",
    "            outliers_list.append(outliers)\n",
    "    outliers = pd.concat(outliers_list).drop_duplicates()\n",
    "    return outliers\n",
    "\n",
    "# List of columns to check for outliers\n",
    "zscore_columns = [\n",
    "    'longitude_Z_Score', 'latitude_Z_Score', 'housing_median_age_Z_Score',\n",
    "    'rooms_per_household_Z_Score', 'bedrooms_per_household_Z_Score',\n",
    "    'total_rooms_log_Z_Score', 'total_bedrooms_log_Z_Score',\n",
    "    'population_log_Z_Score', 'households_log_Z_Score',\n",
    "    'median_income_log_Z_Score', 'population_per_household_log_Z_Score'\n",
    "]\n",
    "\n",
    "# Assuming 'df' is your DataFrame\n",
    "outliers_zscore = detect_outliers_zscore(housing_data_no_outliers, zscore_columns)\n",
    "housing_data_no_outliers_cleaned = housing_data_no_outliers.drop(outliers_zscore.index)\n",
    "housing_data_no_outliers_cleaned.shape\n"
   ],
   "metadata": {
    "collapsed": false,
    "ExecuteTime": {
     "start_time": "2024-08-22T17:34:53.870505Z"
    }
   },
   "id": "a8ebe11f54094156",
   "execution_count": 54
  },
  {
   "cell_type": "code",
   "outputs": [
    {
     "ename": "NameError",
     "evalue": "name 'housing_data_no_outliers' is not defined",
     "output_type": "error",
     "traceback": [
      "\u001B[1;31m---------------------------------------------------------------------------\u001B[0m",
      "\u001B[1;31mNameError\u001B[0m                                 Traceback (most recent call last)",
      "Cell \u001B[1;32mIn[55], line 1\u001B[0m\n\u001B[1;32m----> 1\u001B[0m \u001B[43mhousing_data_no_outliers\u001B[49m\u001B[38;5;241m.\u001B[39mcolumns \n",
      "\u001B[1;31mNameError\u001B[0m: name 'housing_data_no_outliers' is not defined"
     ]
    }
   ],
   "source": [
    "housing_data_no_outliers.columns "
   ],
   "metadata": {
    "collapsed": false,
    "ExecuteTime": {
     "end_time": "2024-08-22T17:34:54.378294400Z",
     "start_time": "2024-08-22T17:34:54.103937100Z"
    }
   },
   "id": "a54cdb3c87c8f964",
   "execution_count": 55
  },
  {
   "cell_type": "code",
   "outputs": [
    {
     "ename": "NameError",
     "evalue": "name 'outliers_zscore' is not defined",
     "output_type": "error",
     "traceback": [
      "\u001B[1;31m---------------------------------------------------------------------------\u001B[0m",
      "\u001B[1;31mNameError\u001B[0m                                 Traceback (most recent call last)",
      "Cell \u001B[1;32mIn[56], line 1\u001B[0m\n\u001B[1;32m----> 1\u001B[0m \u001B[43moutliers_zscore\u001B[49m\u001B[38;5;241m.\u001B[39mcolumns\n",
      "\u001B[1;31mNameError\u001B[0m: name 'outliers_zscore' is not defined"
     ]
    }
   ],
   "source": [
    "outliers_zscore.columns"
   ],
   "metadata": {
    "collapsed": false,
    "ExecuteTime": {
     "start_time": "2024-08-22T17:34:54.369711800Z"
    }
   },
   "id": "fa8989eb904d3818",
   "execution_count": 56
  },
  {
   "cell_type": "code",
   "outputs": [],
   "source": [],
   "metadata": {
    "collapsed": false,
    "ExecuteTime": {
     "end_time": "2024-08-22T17:34:54.907519900Z",
     "start_time": "2024-08-22T17:34:54.641539500Z"
    }
   },
   "id": "253006d285b77063",
   "execution_count": 56
  },
  {
   "cell_type": "code",
   "outputs": [
    {
     "ename": "NameError",
     "evalue": "name 'relationship' is not defined",
     "output_type": "error",
     "traceback": [
      "\u001B[1;31m---------------------------------------------------------------------------\u001B[0m",
      "\u001B[1;31mNameError\u001B[0m                                 Traceback (most recent call last)",
      "Cell \u001B[1;32mIn[57], line 2\u001B[0m\n\u001B[0;32m      1\u001B[0m \u001B[38;5;66;03m# plt the different scatter plots with the outliers \u001B[39;00m\n\u001B[1;32m----> 2\u001B[0m \u001B[43mrelationship\u001B[49m(housing_data_no_outliers, outliers_zscore)\n",
      "\u001B[1;31mNameError\u001B[0m: name 'relationship' is not defined"
     ]
    }
   ],
   "source": [
    "# plt the different scatter plots with the outliers \n",
    "relationship(housing_data_no_outliers, outliers_zscore)\n",
    "\n"
   ],
   "metadata": {
    "collapsed": false,
    "ExecuteTime": {
     "end_time": "2024-08-22T17:34:55.233788Z",
     "start_time": "2024-08-22T17:34:54.912015900Z"
    }
   },
   "id": "28610e7513059b9e",
   "execution_count": 57
  },
  {
   "cell_type": "code",
   "outputs": [
    {
     "ename": "NameError",
     "evalue": "name 'housing_data_no_outliers' is not defined",
     "output_type": "error",
     "traceback": [
      "\u001B[1;31m---------------------------------------------------------------------------\u001B[0m",
      "\u001B[1;31mNameError\u001B[0m                                 Traceback (most recent call last)",
      "Cell \u001B[1;32mIn[58], line 1\u001B[0m\n\u001B[1;32m----> 1\u001B[0m plt\u001B[38;5;241m.\u001B[39mboxplot(\u001B[43mhousing_data_no_outliers\u001B[49m[\u001B[38;5;124m'\u001B[39m\u001B[38;5;124mmedian_income_log_Z_Score\u001B[39m\u001B[38;5;124m'\u001B[39m])\n\u001B[0;32m      2\u001B[0m plt\u001B[38;5;241m.\u001B[39mtitle(\u001B[38;5;124m'\u001B[39m\u001B[38;5;124mBox Plot of House Median Value\u001B[39m\u001B[38;5;124m'\u001B[39m)\n\u001B[0;32m      3\u001B[0m plt\u001B[38;5;241m.\u001B[39mshow()\n",
      "\u001B[1;31mNameError\u001B[0m: name 'housing_data_no_outliers' is not defined"
     ]
    }
   ],
   "source": [
    "plt.boxplot(housing_data_no_outliers['median_income_log_Z_Score'])\n",
    "plt.title('Box Plot of House Median Value')\n",
    "plt.show()"
   ],
   "metadata": {
    "collapsed": false,
    "ExecuteTime": {
     "start_time": "2024-08-22T17:34:55.153458600Z"
    }
   },
   "id": "97311d58e7a64757",
   "execution_count": 58
  },
  {
   "cell_type": "code",
   "outputs": [
    {
     "ename": "NameError",
     "evalue": "name 'housing_data_no_outliers_cleaned' is not defined",
     "output_type": "error",
     "traceback": [
      "\u001B[1;31m---------------------------------------------------------------------------\u001B[0m",
      "\u001B[1;31mNameError\u001B[0m                                 Traceback (most recent call last)",
      "Cell \u001B[1;32mIn[59], line 1\u001B[0m\n\u001B[1;32m----> 1\u001B[0m \u001B[38;5;28;01mfor\u001B[39;00m col \u001B[38;5;129;01min\u001B[39;00m \u001B[43mhousing_data_no_outliers_cleaned\u001B[49m\u001B[38;5;241m.\u001B[39mcolumns:\n\u001B[0;32m      2\u001B[0m     relationship(housing_data_no_outliers_cleaned, col)\n",
      "\u001B[1;31mNameError\u001B[0m: name 'housing_data_no_outliers_cleaned' is not defined"
     ]
    }
   ],
   "source": [
    "for col in housing_data_no_outliers_cleaned.columns:\n",
    "    relationship(housing_data_no_outliers_cleaned, col)"
   ],
   "metadata": {
    "collapsed": false,
    "ExecuteTime": {
     "end_time": "2024-08-22T17:34:55.874585100Z",
     "start_time": "2024-08-22T17:34:55.472464300Z"
    }
   },
   "id": "535266b247084b14",
   "execution_count": 59
  },
  {
   "cell_type": "code",
   "outputs": [],
   "source": [],
   "metadata": {
    "collapsed": false,
    "ExecuteTime": {
     "end_time": "2024-08-22T17:34:56.073059Z",
     "start_time": "2024-08-22T17:34:55.806944400Z"
    }
   },
   "id": "ef749c346a45643b",
   "execution_count": 59
  }
 ],
 "metadata": {
  "kernelspec": {
   "display_name": "Python 3",
   "language": "python",
   "name": "python3"
  },
  "language_info": {
   "codemirror_mode": {
    "name": "ipython",
    "version": 2
   },
   "file_extension": ".py",
   "mimetype": "text/x-python",
   "name": "python",
   "nbconvert_exporter": "python",
   "pygments_lexer": "ipython2",
   "version": "2.7.6"
  }
 },
 "nbformat": 4,
 "nbformat_minor": 5
}
